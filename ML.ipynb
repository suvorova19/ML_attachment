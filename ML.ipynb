{
  "nbformat": 4,
  "nbformat_minor": 0,
  "metadata": {
    "colab": {
      "name": "Untitled1_311.ipynb",
      "provenance": [],
      "collapsed_sections": []
    },
    "kernelspec": {
      "display_name": "Python 3",
      "name": "python3"
    }
  },
  "cells": [
    {
      "cell_type": "code",
      "metadata": {
        "id": "TcI5VyVFRcuh"
      },
      "source": [
        "import numpy as np              # Массивы (матрицы, векторы, линейная алгебра)\n",
        "import matplotlib.pyplot as plt # Научная графика\n",
        "%matplotlib inline \n",
        "    # Говорим jupyter'у, чтобы весь графический вывод был в браузере, а не в отдельном окне\n",
        "import pandas as pd             # Таблицы и временные ряды (dataframe, series)\n",
        "import seaborn as sns           # Еще больше красивой графики для визуализации данных\n",
        "import sklearn                  # Алгоритмы машинного обучения"
      ],
      "execution_count": null,
      "outputs": []
    },
    {
      "cell_type": "markdown",
      "metadata": {
        "id": "a2RIfBq0QGwY"
      },
      "source": [
        "# Приложения из Google Play Store"
      ]
    },
    {
      "cell_type": "markdown",
      "metadata": {
        "id": "hdbdqMIfQJ-v"
      },
      "source": [
        ""
      ]
    },
    {
      "cell_type": "code",
      "metadata": {
        "id": "6G77UGZNR_hN"
      },
      "source": [
        "\n",
        "url = \"https://raw.githubusercontent.com/suvorova19/top_1/master/googleplaystore.csv\"\n",
        "data = pd.read_csv(url)"
      ],
      "execution_count": null,
      "outputs": []
    },
    {
      "cell_type": "markdown",
      "metadata": {
        "id": "XfXjoErOUCEx"
      },
      "source": [
        "Таблица содержит приложения из Google Play Store,полученные из Интернета данные о 10 тысячах приложений из Play Store для анализа рынка Android.Будем смотреть какой категории/жанра приложение. "
      ]
    },
    {
      "cell_type": "markdown",
      "metadata": {
        "id": "9D7iSnnx1uyx"
      },
      "source": [
        "Посмотрим на размер таблицы"
      ]
    },
    {
      "cell_type": "code",
      "metadata": {
        "colab": {
          "base_uri": "https://localhost:8080/"
        },
        "id": "LEz1IeSTSlOH",
        "outputId": "0bced50c-4d8b-45f8-aad1-eaee51e00cbc"
      },
      "source": [
        "data.shape"
      ],
      "execution_count": null,
      "outputs": [
        {
          "output_type": "execute_result",
          "data": {
            "text/plain": [
              "(10841, 13)"
            ]
          },
          "metadata": {
            "tags": []
          },
          "execution_count": 5
        }
      ]
    },
    {
      "cell_type": "markdown",
      "metadata": {
        "id": "YOs7eDUg2Dg4"
      },
      "source": [
        "Выведем первые 5 строк таблицы"
      ]
    },
    {
      "cell_type": "code",
      "metadata": {
        "colab": {
          "base_uri": "https://localhost:8080/",
          "height": 191
        },
        "id": "NNps1A2LSscg",
        "outputId": "5cc3b945-ab2f-45b2-c9c2-21cbb3c14aec"
      },
      "source": [
        "\n",
        "data.head()"
      ],
      "execution_count": null,
      "outputs": [
        {
          "output_type": "execute_result",
          "data": {
            "text/html": [
              "<div>\n",
              "<style scoped>\n",
              "    .dataframe tbody tr th:only-of-type {\n",
              "        vertical-align: middle;\n",
              "    }\n",
              "\n",
              "    .dataframe tbody tr th {\n",
              "        vertical-align: top;\n",
              "    }\n",
              "\n",
              "    .dataframe thead th {\n",
              "        text-align: right;\n",
              "    }\n",
              "</style>\n",
              "<table border=\"1\" class=\"dataframe\">\n",
              "  <thead>\n",
              "    <tr style=\"text-align: right;\">\n",
              "      <th></th>\n",
              "      <th>App</th>\n",
              "      <th>Category</th>\n",
              "      <th>Rating</th>\n",
              "      <th>Reviews</th>\n",
              "      <th>Size</th>\n",
              "      <th>Installs</th>\n",
              "      <th>Type</th>\n",
              "      <th>Price</th>\n",
              "      <th>Content Rating</th>\n",
              "      <th>Genres</th>\n",
              "      <th>Last Updated</th>\n",
              "      <th>Current Ver</th>\n",
              "      <th>Android Ver</th>\n",
              "    </tr>\n",
              "  </thead>\n",
              "  <tbody>\n",
              "    <tr>\n",
              "      <th>0</th>\n",
              "      <td>Photo Editor &amp; Candy Camera &amp; Grid &amp; ScrapBook</td>\n",
              "      <td>ART_AND_DESIGN</td>\n",
              "      <td>4.1</td>\n",
              "      <td>159</td>\n",
              "      <td>19M</td>\n",
              "      <td>10,000+</td>\n",
              "      <td>Free</td>\n",
              "      <td>0</td>\n",
              "      <td>Everyone</td>\n",
              "      <td>Art &amp; Design</td>\n",
              "      <td>January 7, 2018</td>\n",
              "      <td>1.0.0</td>\n",
              "      <td>4.0.3 and up</td>\n",
              "    </tr>\n",
              "    <tr>\n",
              "      <th>1</th>\n",
              "      <td>Coloring book moana</td>\n",
              "      <td>ART_AND_DESIGN</td>\n",
              "      <td>3.9</td>\n",
              "      <td>967</td>\n",
              "      <td>14M</td>\n",
              "      <td>500,000+</td>\n",
              "      <td>Free</td>\n",
              "      <td>0</td>\n",
              "      <td>Everyone</td>\n",
              "      <td>Art &amp; Design;Pretend Play</td>\n",
              "      <td>January 15, 2018</td>\n",
              "      <td>2.0.0</td>\n",
              "      <td>4.0.3 and up</td>\n",
              "    </tr>\n",
              "    <tr>\n",
              "      <th>2</th>\n",
              "      <td>U Launcher Lite – FREE Live Cool Themes, Hide ...</td>\n",
              "      <td>ART_AND_DESIGN</td>\n",
              "      <td>4.7</td>\n",
              "      <td>87510</td>\n",
              "      <td>8.7M</td>\n",
              "      <td>5,000,000+</td>\n",
              "      <td>Free</td>\n",
              "      <td>0</td>\n",
              "      <td>Everyone</td>\n",
              "      <td>Art &amp; Design</td>\n",
              "      <td>August 1, 2018</td>\n",
              "      <td>1.2.4</td>\n",
              "      <td>4.0.3 and up</td>\n",
              "    </tr>\n",
              "    <tr>\n",
              "      <th>3</th>\n",
              "      <td>Sketch - Draw &amp; Paint</td>\n",
              "      <td>ART_AND_DESIGN</td>\n",
              "      <td>4.5</td>\n",
              "      <td>215644</td>\n",
              "      <td>25M</td>\n",
              "      <td>50,000,000+</td>\n",
              "      <td>Free</td>\n",
              "      <td>0</td>\n",
              "      <td>Teen</td>\n",
              "      <td>Art &amp; Design</td>\n",
              "      <td>June 8, 2018</td>\n",
              "      <td>Varies with device</td>\n",
              "      <td>4.2 and up</td>\n",
              "    </tr>\n",
              "    <tr>\n",
              "      <th>4</th>\n",
              "      <td>Pixel Draw - Number Art Coloring Book</td>\n",
              "      <td>ART_AND_DESIGN</td>\n",
              "      <td>4.3</td>\n",
              "      <td>967</td>\n",
              "      <td>2.8M</td>\n",
              "      <td>100,000+</td>\n",
              "      <td>Free</td>\n",
              "      <td>0</td>\n",
              "      <td>Everyone</td>\n",
              "      <td>Art &amp; Design;Creativity</td>\n",
              "      <td>June 20, 2018</td>\n",
              "      <td>1.1</td>\n",
              "      <td>4.4 and up</td>\n",
              "    </tr>\n",
              "  </tbody>\n",
              "</table>\n",
              "</div>"
            ],
            "text/plain": [
              "                                                 App  ...   Android Ver\n",
              "0     Photo Editor & Candy Camera & Grid & ScrapBook  ...  4.0.3 and up\n",
              "1                                Coloring book moana  ...  4.0.3 and up\n",
              "2  U Launcher Lite – FREE Live Cool Themes, Hide ...  ...  4.0.3 and up\n",
              "3                              Sketch - Draw & Paint  ...    4.2 and up\n",
              "4              Pixel Draw - Number Art Coloring Book  ...    4.4 and up\n",
              "\n",
              "[5 rows x 13 columns]"
            ]
          },
          "metadata": {
            "tags": []
          },
          "execution_count": 6
        }
      ]
    },
    {
      "cell_type": "markdown",
      "metadata": {
        "id": "-OizQISN2TQw"
      },
      "source": [
        "Выведем последние 5 строк таблицы"
      ]
    },
    {
      "cell_type": "code",
      "metadata": {
        "colab": {
          "base_uri": "https://localhost:8080/",
          "height": 256
        },
        "id": "KG2WEc2aSviE",
        "outputId": "6be9893e-cbdb-47ed-a54e-ce201a48e93d"
      },
      "source": [
        "data.tail()"
      ],
      "execution_count": null,
      "outputs": [
        {
          "output_type": "execute_result",
          "data": {
            "text/html": [
              "<div>\n",
              "<style scoped>\n",
              "    .dataframe tbody tr th:only-of-type {\n",
              "        vertical-align: middle;\n",
              "    }\n",
              "\n",
              "    .dataframe tbody tr th {\n",
              "        vertical-align: top;\n",
              "    }\n",
              "\n",
              "    .dataframe thead th {\n",
              "        text-align: right;\n",
              "    }\n",
              "</style>\n",
              "<table border=\"1\" class=\"dataframe\">\n",
              "  <thead>\n",
              "    <tr style=\"text-align: right;\">\n",
              "      <th></th>\n",
              "      <th>App</th>\n",
              "      <th>Category</th>\n",
              "      <th>Rating</th>\n",
              "      <th>Reviews</th>\n",
              "      <th>Size</th>\n",
              "      <th>Installs</th>\n",
              "      <th>Type</th>\n",
              "      <th>Price</th>\n",
              "      <th>Content Rating</th>\n",
              "      <th>Genres</th>\n",
              "      <th>Last Updated</th>\n",
              "      <th>Current Ver</th>\n",
              "      <th>Android Ver</th>\n",
              "    </tr>\n",
              "  </thead>\n",
              "  <tbody>\n",
              "    <tr>\n",
              "      <th>10836</th>\n",
              "      <td>Sya9a Maroc - FR</td>\n",
              "      <td>FAMILY</td>\n",
              "      <td>4.5</td>\n",
              "      <td>38</td>\n",
              "      <td>53M</td>\n",
              "      <td>5,000+</td>\n",
              "      <td>Free</td>\n",
              "      <td>0</td>\n",
              "      <td>Everyone</td>\n",
              "      <td>Education</td>\n",
              "      <td>July 25, 2017</td>\n",
              "      <td>1.48</td>\n",
              "      <td>4.1 and up</td>\n",
              "    </tr>\n",
              "    <tr>\n",
              "      <th>10837</th>\n",
              "      <td>Fr. Mike Schmitz Audio Teachings</td>\n",
              "      <td>FAMILY</td>\n",
              "      <td>5.0</td>\n",
              "      <td>4</td>\n",
              "      <td>3.6M</td>\n",
              "      <td>100+</td>\n",
              "      <td>Free</td>\n",
              "      <td>0</td>\n",
              "      <td>Everyone</td>\n",
              "      <td>Education</td>\n",
              "      <td>July 6, 2018</td>\n",
              "      <td>1.0</td>\n",
              "      <td>4.1 and up</td>\n",
              "    </tr>\n",
              "    <tr>\n",
              "      <th>10838</th>\n",
              "      <td>Parkinson Exercices FR</td>\n",
              "      <td>MEDICAL</td>\n",
              "      <td>NaN</td>\n",
              "      <td>3</td>\n",
              "      <td>9.5M</td>\n",
              "      <td>1,000+</td>\n",
              "      <td>Free</td>\n",
              "      <td>0</td>\n",
              "      <td>Everyone</td>\n",
              "      <td>Medical</td>\n",
              "      <td>January 20, 2017</td>\n",
              "      <td>1.0</td>\n",
              "      <td>2.2 and up</td>\n",
              "    </tr>\n",
              "    <tr>\n",
              "      <th>10839</th>\n",
              "      <td>The SCP Foundation DB fr nn5n</td>\n",
              "      <td>BOOKS_AND_REFERENCE</td>\n",
              "      <td>4.5</td>\n",
              "      <td>114</td>\n",
              "      <td>Varies with device</td>\n",
              "      <td>1,000+</td>\n",
              "      <td>Free</td>\n",
              "      <td>0</td>\n",
              "      <td>Mature 17+</td>\n",
              "      <td>Books &amp; Reference</td>\n",
              "      <td>January 19, 2015</td>\n",
              "      <td>Varies with device</td>\n",
              "      <td>Varies with device</td>\n",
              "    </tr>\n",
              "    <tr>\n",
              "      <th>10840</th>\n",
              "      <td>iHoroscope - 2018 Daily Horoscope &amp; Astrology</td>\n",
              "      <td>LIFESTYLE</td>\n",
              "      <td>4.5</td>\n",
              "      <td>398307</td>\n",
              "      <td>19M</td>\n",
              "      <td>10,000,000+</td>\n",
              "      <td>Free</td>\n",
              "      <td>0</td>\n",
              "      <td>Everyone</td>\n",
              "      <td>Lifestyle</td>\n",
              "      <td>July 25, 2018</td>\n",
              "      <td>Varies with device</td>\n",
              "      <td>Varies with device</td>\n",
              "    </tr>\n",
              "  </tbody>\n",
              "</table>\n",
              "</div>"
            ],
            "text/plain": [
              "                                                 App  ...         Android Ver\n",
              "10836                               Sya9a Maroc - FR  ...          4.1 and up\n",
              "10837               Fr. Mike Schmitz Audio Teachings  ...          4.1 and up\n",
              "10838                         Parkinson Exercices FR  ...          2.2 and up\n",
              "10839                  The SCP Foundation DB fr nn5n  ...  Varies with device\n",
              "10840  iHoroscope - 2018 Daily Horoscope & Astrology  ...  Varies with device\n",
              "\n",
              "[5 rows x 13 columns]"
            ]
          },
          "metadata": {
            "tags": []
          },
          "execution_count": 7
        }
      ]
    },
    {
      "cell_type": "markdown",
      "metadata": {
        "id": "72QuvQ4W2auR"
      },
      "source": [
        "Выведем имена признаков(столбцов)"
      ]
    },
    {
      "cell_type": "code",
      "metadata": {
        "colab": {
          "base_uri": "https://localhost:8080/"
        },
        "id": "VRcRDXoi6EaM",
        "outputId": "3ae248d1-7cf8-4ecb-a670-a6929b5b7c61"
      },
      "source": [
        "data.columns"
      ],
      "execution_count": null,
      "outputs": [
        {
          "output_type": "execute_result",
          "data": {
            "text/plain": [
              "Index(['App', 'Category', 'Rating', 'Reviews', 'Size', 'Installs', 'Type',\n",
              "       'Price', 'Content Rating', 'Genres', 'Last Updated', 'Current Ver',\n",
              "       'Android Ver'],\n",
              "      dtype='object')"
            ]
          },
          "metadata": {
            "tags": []
          },
          "execution_count": 8
        }
      ]
    },
    {
      "cell_type": "code",
      "metadata": {
        "colab": {
          "base_uri": "https://localhost:8080/"
        },
        "id": "hjIaMj5-COYA",
        "outputId": "afa71156-5279-4a85-8dcb-781876e38c3b"
      },
      "source": [
        "data['Category'].unique()"
      ],
      "execution_count": null,
      "outputs": [
        {
          "output_type": "execute_result",
          "data": {
            "text/plain": [
              "array(['ART_AND_DESIGN', 'AUTO_AND_VEHICLES', 'BEAUTY',\n",
              "       'BOOKS_AND_REFERENCE', 'BUSINESS', 'COMICS', 'COMMUNICATION',\n",
              "       'DATING', 'EDUCATION', 'ENTERTAINMENT', 'EVENTS', 'FINANCE',\n",
              "       'FOOD_AND_DRINK', 'HEALTH_AND_FITNESS', 'HOUSE_AND_HOME',\n",
              "       'LIBRARIES_AND_DEMO', 'LIFESTYLE', 'GAME', 'FAMILY', 'MEDICAL',\n",
              "       'SOCIAL', 'SHOPPING', 'PHOTOGRAPHY', 'SPORTS', 'TRAVEL_AND_LOCAL',\n",
              "       'TOOLS', 'PERSONALIZATION', 'PRODUCTIVITY', 'PARENTING', 'WEATHER',\n",
              "       'VIDEO_PLAYERS', 'NEWS_AND_MAGAZINES', 'MAPS_AND_NAVIGATION',\n",
              "       '1.9'], dtype=object)"
            ]
          },
          "metadata": {
            "tags": []
          },
          "execution_count": 9
        }
      ]
    },
    {
      "cell_type": "markdown",
      "metadata": {
        "id": "zhF63a6Z9jD6"
      },
      "source": [
        "App - приложение\n",
        "\n",
        "Category - категория\n",
        "\n",
        "Rating - рейтинг\n",
        "\n",
        "Reviews - отзывы\n",
        "\n",
        "Size- размер \n",
        "\n",
        "Installs - установки \n",
        "\n",
        "Type - тип\n",
        "\n",
        "Price - цена\n",
        "\n",
        "Content Rating - рейтинг содержания \n",
        "\n",
        "Genres - жанры\n",
        "\n",
        "Last Updater - последнее обновление\n",
        "\n",
        "Current Ver- текущая версия\n",
        "\n",
        "Android Ver - версия андройда "
      ]
    },
    {
      "cell_type": "markdown",
      "metadata": {
        "id": "UKdqbVEW-lyA"
      },
      "source": [
        "Признаки 'App','Category','Type','Genres','Content Rating','Current Ver','Android Ver','Last Updater'- категориальные\n",
        "\n",
        "Признаки Size,Price,Installs,Reviews,Rating - числовые"
      ]
    },
    {
      "cell_type": "code",
      "metadata": {
        "colab": {
          "base_uri": "https://localhost:8080/"
        },
        "id": "404pofOq_Jpj",
        "outputId": "7756e7d4-38b2-483b-91ff-950ef34bf6f3"
      },
      "source": [
        "data.dtypes"
      ],
      "execution_count": null,
      "outputs": [
        {
          "output_type": "execute_result",
          "data": {
            "text/plain": [
              "App                object\n",
              "Category           object\n",
              "Rating            float64\n",
              "Reviews            object\n",
              "Size               object\n",
              "Installs           object\n",
              "Type               object\n",
              "Price              object\n",
              "Content Rating     object\n",
              "Genres             object\n",
              "Last Updated       object\n",
              "Current Ver        object\n",
              "Android Ver        object\n",
              "dtype: object"
            ]
          },
          "metadata": {
            "tags": []
          },
          "execution_count": 10
        }
      ]
    },
    {
      "cell_type": "code",
      "metadata": {
        "id": "i5fAbvq8hGZJ"
      },
      "source": [
        "for item in ['App','Category','Type','Genres','Content Rating','Current Ver','Android Ver','Last Updated']:\n",
        "  data[item] = data[item].astype('category');"
      ],
      "execution_count": null,
      "outputs": []
    },
    {
      "cell_type": "markdown",
      "metadata": {
        "id": "_6f9tOXri3Z6"
      },
      "source": [
        "Признак size числовой, но имеет тип 'Object'.Уберем M, что означает мегабайты, после записи чисел и заменим Varies with device(зависит от устройства) на пустую строку на float."
      ]
    },
    {
      "cell_type": "code",
      "metadata": {
        "id": "mZN4F3mmgti_"
      },
      "source": [
        "data['Size']=data['Size'].str.replace('Varies with device',' ')"
      ],
      "execution_count": null,
      "outputs": []
    },
    {
      "cell_type": "code",
      "metadata": {
        "id": "nwCgnzDMgyu0"
      },
      "source": [
        "data['Size']=data['Size'].str.replace('M','')"
      ],
      "execution_count": null,
      "outputs": []
    },
    {
      "cell_type": "code",
      "metadata": {
        "id": "BplXzoZJg6av"
      },
      "source": [
        "data['Size'] = pd.to_numeric(data['Size'], errors='coerce')"
      ],
      "execution_count": null,
      "outputs": []
    },
    {
      "cell_type": "markdown",
      "metadata": {
        "id": "mqKIfoQikmCm"
      },
      "source": [
        "Признак price числовой, но имеет тип 'Object'. Уберем $ и заменим тип на float."
      ]
    },
    {
      "cell_type": "code",
      "metadata": {
        "id": "xZr_VXM5lRo2"
      },
      "source": [
        "data['Price']=data['Price'].str.replace('$','')\n",
        "data['Price']=data['Price'].str.replace('Everyone','0')\n",
        "data['Price'] = pd.to_numeric(data['Price'], errors='coerce')"
      ],
      "execution_count": null,
      "outputs": []
    },
    {
      "cell_type": "markdown",
      "metadata": {
        "id": "YJn2snzZmF28"
      },
      "source": [
        "Признак 'Installs'  числовой, но имеет тип 'Object'. Так же в записи присутствуют запятые и плюс. Поэтому уберём запятые и плюсы и заменим тип на float"
      ]
    },
    {
      "cell_type": "code",
      "metadata": {
        "id": "fITOL83WmUCn"
      },
      "source": [
        "data['Installs']=data['Installs'].str.replace(',','')\n",
        "data['Installs']=data['Installs'].str.replace('+','')\n",
        "data['Installs'] = pd.to_numeric(data['Installs'], errors='coerce')"
      ],
      "execution_count": null,
      "outputs": []
    },
    {
      "cell_type": "markdown",
      "metadata": {
        "id": "EWMHHmhprW8d"
      },
      "source": [
        "Признак reviews числовой, но имеет тип 'Object'.Заменим тип на float."
      ]
    },
    {
      "cell_type": "code",
      "metadata": {
        "id": "PlsYx1WLrVYU"
      },
      "source": [
        "data['Reviews'] = pd.to_numeric(data['Reviews'], errors='coerce')\n"
      ],
      "execution_count": null,
      "outputs": []
    },
    {
      "cell_type": "code",
      "metadata": {
        "colab": {
          "base_uri": "https://localhost:8080/"
        },
        "id": "W-CUKJ62r6rP",
        "outputId": "64b4c38c-36c2-4d23-fffc-576dd60f526b"
      },
      "source": [
        "data.dtypes"
      ],
      "execution_count": null,
      "outputs": [
        {
          "output_type": "execute_result",
          "data": {
            "text/plain": [
              "App               category\n",
              "Category          category\n",
              "Rating             float64\n",
              "Reviews            float64\n",
              "Size               float64\n",
              "Installs           float64\n",
              "Type              category\n",
              "Price              float64\n",
              "Content Rating    category\n",
              "Genres            category\n",
              "Last Updated      category\n",
              "Current Ver       category\n",
              "Android Ver       category\n",
              "dtype: object"
            ]
          },
          "metadata": {
            "tags": []
          },
          "execution_count": 18
        }
      ]
    },
    {
      "cell_type": "markdown",
      "metadata": {
        "id": "dfXfoLiBFUdL"
      },
      "source": [
        "# Визуализация и описательная статистика."
      ]
    },
    {
      "cell_type": "markdown",
      "metadata": {
        "id": "v0xNqUupUj9f"
      },
      "source": [
        "Визуализация и описательная статистика - важные этапы анализа данных. Сводную информацию о признаках можем получить, вызвав метод describe:"
      ]
    },
    {
      "cell_type": "code",
      "metadata": {
        "colab": {
          "base_uri": "https://localhost:8080/",
          "height": 297
        },
        "id": "dOYhIjO4FYQW",
        "outputId": "3d81ae65-2e9f-4d24-e5ee-f4554e6deaba"
      },
      "source": [
        "data.describe()"
      ],
      "execution_count": null,
      "outputs": [
        {
          "output_type": "execute_result",
          "data": {
            "text/html": [
              "<div>\n",
              "<style scoped>\n",
              "    .dataframe tbody tr th:only-of-type {\n",
              "        vertical-align: middle;\n",
              "    }\n",
              "\n",
              "    .dataframe tbody tr th {\n",
              "        vertical-align: top;\n",
              "    }\n",
              "\n",
              "    .dataframe thead th {\n",
              "        text-align: right;\n",
              "    }\n",
              "</style>\n",
              "<table border=\"1\" class=\"dataframe\">\n",
              "  <thead>\n",
              "    <tr style=\"text-align: right;\">\n",
              "      <th></th>\n",
              "      <th>Rating</th>\n",
              "      <th>Reviews</th>\n",
              "      <th>Size</th>\n",
              "      <th>Installs</th>\n",
              "      <th>Price</th>\n",
              "    </tr>\n",
              "  </thead>\n",
              "  <tbody>\n",
              "    <tr>\n",
              "      <th>count</th>\n",
              "      <td>9367.000000</td>\n",
              "      <td>1.084000e+04</td>\n",
              "      <td>8829.000000</td>\n",
              "      <td>1.084000e+04</td>\n",
              "      <td>10841.000000</td>\n",
              "    </tr>\n",
              "    <tr>\n",
              "      <th>mean</th>\n",
              "      <td>4.193338</td>\n",
              "      <td>4.441529e+05</td>\n",
              "      <td>22.270540</td>\n",
              "      <td>1.546434e+07</td>\n",
              "      <td>1.027273</td>\n",
              "    </tr>\n",
              "    <tr>\n",
              "      <th>std</th>\n",
              "      <td>0.537431</td>\n",
              "      <td>2.927761e+06</td>\n",
              "      <td>22.628691</td>\n",
              "      <td>8.502936e+07</td>\n",
              "      <td>15.948971</td>\n",
              "    </tr>\n",
              "    <tr>\n",
              "      <th>min</th>\n",
              "      <td>1.000000</td>\n",
              "      <td>0.000000e+00</td>\n",
              "      <td>1.000000</td>\n",
              "      <td>0.000000e+00</td>\n",
              "      <td>0.000000</td>\n",
              "    </tr>\n",
              "    <tr>\n",
              "      <th>25%</th>\n",
              "      <td>4.000000</td>\n",
              "      <td>3.800000e+01</td>\n",
              "      <td>5.400000</td>\n",
              "      <td>1.000000e+03</td>\n",
              "      <td>0.000000</td>\n",
              "    </tr>\n",
              "    <tr>\n",
              "      <th>50%</th>\n",
              "      <td>4.300000</td>\n",
              "      <td>2.094000e+03</td>\n",
              "      <td>14.000000</td>\n",
              "      <td>1.000000e+05</td>\n",
              "      <td>0.000000</td>\n",
              "    </tr>\n",
              "    <tr>\n",
              "      <th>75%</th>\n",
              "      <td>4.500000</td>\n",
              "      <td>5.477550e+04</td>\n",
              "      <td>31.000000</td>\n",
              "      <td>5.000000e+06</td>\n",
              "      <td>0.000000</td>\n",
              "    </tr>\n",
              "    <tr>\n",
              "      <th>max</th>\n",
              "      <td>19.000000</td>\n",
              "      <td>7.815831e+07</td>\n",
              "      <td>100.000000</td>\n",
              "      <td>1.000000e+09</td>\n",
              "      <td>400.000000</td>\n",
              "    </tr>\n",
              "  </tbody>\n",
              "</table>\n",
              "</div>"
            ],
            "text/plain": [
              "            Rating       Reviews         Size      Installs         Price\n",
              "count  9367.000000  1.084000e+04  8829.000000  1.084000e+04  10841.000000\n",
              "mean      4.193338  4.441529e+05    22.270540  1.546434e+07      1.027273\n",
              "std       0.537431  2.927761e+06    22.628691  8.502936e+07     15.948971\n",
              "min       1.000000  0.000000e+00     1.000000  0.000000e+00      0.000000\n",
              "25%       4.000000  3.800000e+01     5.400000  1.000000e+03      0.000000\n",
              "50%       4.300000  2.094000e+03    14.000000  1.000000e+05      0.000000\n",
              "75%       4.500000  5.477550e+04    31.000000  5.000000e+06      0.000000\n",
              "max      19.000000  7.815831e+07   100.000000  1.000000e+09    400.000000"
            ]
          },
          "metadata": {
            "tags": []
          },
          "execution_count": 18
        }
      ]
    },
    {
      "cell_type": "markdown",
      "metadata": {
        "id": "DtALpOGsFwvd"
      },
      "source": [
        "Для каждого количественного признака приведены средние значения, стандартное отклонение, минимальное и макимальное значения, медиана и значения квартилей.\n",
        "\n",
        "По умолчанию этот метод дает информацию только о количественных признаках. Получим информацию о категориальных:"
      ]
    },
    {
      "cell_type": "code",
      "metadata": {
        "colab": {
          "base_uri": "https://localhost:8080/",
          "height": 173
        },
        "id": "vH0rZk_sFzuJ",
        "outputId": "5b2a0582-20d2-451e-fbe3-2188f16c770f"
      },
      "source": [
        "data.describe(include=['category'])"
      ],
      "execution_count": null,
      "outputs": [
        {
          "output_type": "execute_result",
          "data": {
            "text/html": [
              "<div>\n",
              "<style scoped>\n",
              "    .dataframe tbody tr th:only-of-type {\n",
              "        vertical-align: middle;\n",
              "    }\n",
              "\n",
              "    .dataframe tbody tr th {\n",
              "        vertical-align: top;\n",
              "    }\n",
              "\n",
              "    .dataframe thead th {\n",
              "        text-align: right;\n",
              "    }\n",
              "</style>\n",
              "<table border=\"1\" class=\"dataframe\">\n",
              "  <thead>\n",
              "    <tr style=\"text-align: right;\">\n",
              "      <th></th>\n",
              "      <th>App</th>\n",
              "      <th>Category</th>\n",
              "      <th>Type</th>\n",
              "      <th>Content Rating</th>\n",
              "      <th>Genres</th>\n",
              "      <th>Last Updated</th>\n",
              "      <th>Current Ver</th>\n",
              "      <th>Android Ver</th>\n",
              "    </tr>\n",
              "  </thead>\n",
              "  <tbody>\n",
              "    <tr>\n",
              "      <th>count</th>\n",
              "      <td>10841</td>\n",
              "      <td>10841</td>\n",
              "      <td>10840</td>\n",
              "      <td>10840</td>\n",
              "      <td>10841</td>\n",
              "      <td>10841</td>\n",
              "      <td>10833</td>\n",
              "      <td>10838</td>\n",
              "    </tr>\n",
              "    <tr>\n",
              "      <th>unique</th>\n",
              "      <td>9660</td>\n",
              "      <td>34</td>\n",
              "      <td>3</td>\n",
              "      <td>6</td>\n",
              "      <td>120</td>\n",
              "      <td>1378</td>\n",
              "      <td>2832</td>\n",
              "      <td>33</td>\n",
              "    </tr>\n",
              "    <tr>\n",
              "      <th>top</th>\n",
              "      <td>ROBLOX</td>\n",
              "      <td>FAMILY</td>\n",
              "      <td>Free</td>\n",
              "      <td>Everyone</td>\n",
              "      <td>Tools</td>\n",
              "      <td>August 3, 2018</td>\n",
              "      <td>Varies with device</td>\n",
              "      <td>4.1 and up</td>\n",
              "    </tr>\n",
              "    <tr>\n",
              "      <th>freq</th>\n",
              "      <td>9</td>\n",
              "      <td>1972</td>\n",
              "      <td>10039</td>\n",
              "      <td>8714</td>\n",
              "      <td>842</td>\n",
              "      <td>326</td>\n",
              "      <td>1459</td>\n",
              "      <td>2451</td>\n",
              "    </tr>\n",
              "  </tbody>\n",
              "</table>\n",
              "</div>"
            ],
            "text/plain": [
              "           App Category   Type  ...    Last Updated         Current Ver Android Ver\n",
              "count    10841    10841  10840  ...           10841               10833       10838\n",
              "unique    9660       34      3  ...            1378                2832          33\n",
              "top     ROBLOX   FAMILY   Free  ...  August 3, 2018  Varies with device  4.1 and up\n",
              "freq         9     1972  10039  ...             326                1459        2451\n",
              "\n",
              "[4 rows x 8 columns]"
            ]
          },
          "metadata": {
            "tags": []
          },
          "execution_count": 19
        }
      ]
    },
    {
      "cell_type": "code",
      "metadata": {
        "colab": {
          "base_uri": "https://localhost:8080/",
          "height": 611
        },
        "id": "9ZVc1A-EU-JE",
        "outputId": "bac7921f-8082-4123-b40b-a3a7c31c4d36"
      },
      "source": [
        "from pandas.plotting import scatter_matrix\n",
        "scatter_matrix(data, alpha = .01, figsize = (10, 10))\n",
        "pass"
      ],
      "execution_count": null,
      "outputs": [
        {
          "output_type": "display_data",
          "data": {
            "image/png": "[encoded data removed]",
            "text/plain": [
              "<Figure size 720x720 with 25 Axes>"
            ]
          },
          "metadata": {
            "tags": []
          }
        }
      ]
    },
    {
      "cell_type": "code",
      "metadata": {
        "colab": {
          "base_uri": "https://localhost:8080/",
          "height": 289
        },
        "id": "hnhpHfxdHks2",
        "outputId": "5f6a632f-41b1-4c7b-b4f8-63eed66bd34d"
      },
      "source": [
        "plt.scatter(x='Reviews', y='Installs', data=data)\n",
        "pass"
      ],
      "execution_count": null,
      "outputs": [
        {
          "output_type": "display_data",
          "data": {
            "image/png": "[encoded data removed]",
            "text/plain": [
              "<Figure size 432x288 with 1 Axes>"
            ]
          },
          "metadata": {
            "tags": []
          }
        }
      ]
    },
    {
      "cell_type": "code",
      "metadata": {
        "colab": {
          "base_uri": "https://localhost:8080/",
          "height": 289
        },
        "id": "A8zE_YEkHsT5",
        "outputId": "b8fdfccc-ef21-42f0-e0b1-e1aebf1cb5e1"
      },
      "source": [
        "plt.scatter(data['Reviews'], data['Installs'], alpha=0.01)\n",
        "pass"
      ],
      "execution_count": null,
      "outputs": [
        {
          "output_type": "display_data",
          "data": {
            "image/png": "[encoded data removed]",
            "text/plain": [
              "<Figure size 432x288 with 1 Axes>"
            ]
          },
          "metadata": {
            "tags": []
          }
        }
      ]
    },
    {
      "cell_type": "code",
      "metadata": {
        "colab": {
          "base_uri": "https://localhost:8080/",
          "height": 290
        },
        "id": "RUoIfa4WIV0e",
        "outputId": "b37a6266-c251-402e-827b-bfd3ad19420c"
      },
      "source": [
        "np.random.seed(42)\n",
        "random_subset = np.random.choice(np.arange(data.shape[0]), size=1000, replace=False)\n",
        "plt.scatter(data.iloc[random_subset]['Reviews'], data.iloc[random_subset]['Installs'], alpha=0.4)\n",
        "plt.xlabel('Reviews')\n",
        "plt.ylabel('Installs')\n",
        "pass"
      ],
      "execution_count": null,
      "outputs": [
        {
          "output_type": "display_data",
          "data": {
            "image/png": "[encoded data removed]",
            "text/plain": [
              "<Figure size 432x288 with 1 Axes>"
            ]
          },
          "metadata": {
            "tags": []
          }
        }
      ]
    },
    {
      "cell_type": "markdown",
      "metadata": {
        "id": "WLOo88yDLavy"
      },
      "source": [
        "колличество установок и рейтинг"
      ]
    },
    {
      "cell_type": "code",
      "metadata": {
        "colab": {
          "base_uri": "https://localhost:8080/",
          "height": 290
        },
        "id": "t1npwhLGKFoO",
        "outputId": "763039c8-6f85-495c-eff1-77b282df1c94"
      },
      "source": [
        "plt.scatter(data.iloc[random_subset]['Rating'], data.iloc[random_subset]['Installs'], alpha = .3)\n",
        "plt.xlabel('Rating')\n",
        "plt.ylabel('Installs')\n",
        "pass"
      ],
      "execution_count": null,
      "outputs": [
        {
          "output_type": "display_data",
          "data": {
            "image/png": "[encoded data removed]",
            "text/plain": [
              "<Figure size 432x288 with 1 Axes>"
            ]
          },
          "metadata": {
            "tags": []
          }
        }
      ]
    },
    {
      "cell_type": "markdown",
      "metadata": {
        "id": "rciQSh64cs1z"
      },
      "source": [
        "отзовы и рейтинг"
      ]
    },
    {
      "cell_type": "code",
      "metadata": {
        "colab": {
          "base_uri": "https://localhost:8080/",
          "height": 279
        },
        "id": "PpKg4J_9b-zZ",
        "outputId": "02274338-fced-4707-d20b-64db0b3b23d5"
      },
      "source": [
        "plt.scatter(data.iloc[random_subset]['Reviews'], data.iloc[random_subset]['Rating'], alpha = .3)\n",
        "plt.xlabel('Reviews')\n",
        "plt.ylabel('Rating')\n",
        "pass"
      ],
      "execution_count": null,
      "outputs": [
        {
          "output_type": "display_data",
          "data": {
            "image/png": "[encoded data removed]",
            "text/plain": [
              "<Figure size 432x288 with 1 Axes>"
            ]
          },
          "metadata": {
            "tags": []
          }
        }
      ]
    },
    {
      "cell_type": "markdown",
      "metadata": {
        "id": "4MEo0-J1dhPW"
      },
      "source": [
        "установки и цена"
      ]
    },
    {
      "cell_type": "code",
      "metadata": {
        "colab": {
          "base_uri": "https://localhost:8080/",
          "height": 290
        },
        "id": "XQuMVwltdRu2",
        "outputId": "29102a69-9e41-4020-dde7-4a5a612b3f7b"
      },
      "source": [
        "plt.scatter(data.iloc[random_subset]['Price'], data.iloc[random_subset]['Installs'], alpha = .3)\n",
        "plt.xlabel('Price')\n",
        "plt.ylabel('Installs')\n",
        "pass"
      ],
      "execution_count": null,
      "outputs": [
        {
          "output_type": "display_data",
          "data": {
            "image/png": "[encoded data removed]",
            "text/plain": [
              "<Figure size 432x288 with 1 Axes>"
            ]
          },
          "metadata": {
            "tags": []
          }
        }
      ]
    },
    {
      "cell_type": "markdown",
      "metadata": {
        "id": "ypdiAjFW-Ne3"
      },
      "source": [
        "Ящик с усами"
      ]
    },
    {
      "cell_type": "code",
      "metadata": {
        "colab": {
          "base_uri": "https://localhost:8080/",
          "height": 290
        },
        "id": "z4SHV-Ry_3MT",
        "outputId": "b11a1350-e1eb-47ba-c949-23bcd411c6e2"
      },
      "source": [
        "sns.boxplot(x=\"Installs\", y=\"Reviews\", data=data)\n",
        "pass"
      ],
      "execution_count": null,
      "outputs": [
        {
          "output_type": "display_data",
          "data": {
            "image/png": "[encoded data removed]",
            "text/plain": [
              "<Figure size 432x288 with 1 Axes>"
            ]
          },
          "metadata": {
            "tags": []
          }
        }
      ]
    },
    {
      "cell_type": "markdown",
      "metadata": {
        "id": "WbF4HuiL_p9l"
      },
      "source": [
        "Диаграмма типов приложений(платные/бесплатные)"
      ]
    },
    {
      "cell_type": "code",
      "metadata": {
        "colab": {
          "base_uri": "https://localhost:8080/",
          "height": 279
        },
        "id": "7Gru0K7CMOaB",
        "outputId": "6e281b01-4751-40ce-da70-9e02b26b3442"
      },
      "source": [
        "sns.countplot(x='Type', data=data)\n",
        "pass"
      ],
      "execution_count": null,
      "outputs": [
        {
          "output_type": "display_data",
          "data": {
            "image/png": "[encoded data removed]",
            "text/plain": [
              "<Figure size 432x288 with 1 Axes>"
            ]
          },
          "metadata": {
            "tags": []
          }
        }
      ]
    },
    {
      "cell_type": "markdown",
      "metadata": {
        "id": "R5mGhkOfAbx1"
      },
      "source": [
        "Возрастной рейтинг приложений(колличество по группам)"
      ]
    },
    {
      "cell_type": "code",
      "metadata": {
        "colab": {
          "base_uri": "https://localhost:8080/"
        },
        "id": "chESqMfQOnCM",
        "outputId": "0fd0f7c1-0264-4563-d507-d1c893874033"
      },
      "source": [
        "data['Content Rating'].value_counts()"
      ],
      "execution_count": null,
      "outputs": [
        {
          "output_type": "execute_result",
          "data": {
            "text/plain": [
              "Everyone           8714\n",
              "Teen               1208\n",
              "Mature 17+          499\n",
              "Everyone 10+        414\n",
              "Adults only 18+       3\n",
              "Unrated               2\n",
              "Name: Content Rating, dtype: int64"
            ]
          },
          "metadata": {
            "tags": []
          },
          "execution_count": 26
        }
      ]
    },
    {
      "cell_type": "code",
      "metadata": {
        "colab": {
          "base_uri": "https://localhost:8080/",
          "height": 279
        },
        "id": "bMF3Z14XOt9c",
        "outputId": "8e102faa-1fbd-4a1f-be16-09a64f2a1f79"
      },
      "source": [
        "sns.countplot(x='Content Rating', order=data['Content Rating'].value_counts().index, data=data)\n",
        "pass"
      ],
      "execution_count": null,
      "outputs": [
        {
          "output_type": "display_data",
          "data": {
            "image/png": "[encoded data removed]",
            "text/plain": [
              "<Figure size 432x288 with 1 Axes>"
            ]
          },
          "metadata": {
            "tags": []
          }
        }
      ]
    },
    {
      "cell_type": "markdown",
      "metadata": {
        "id": "yuPkM5o1A9KR"
      },
      "source": [
        "Диаграмма категории/жанра"
      ]
    },
    {
      "cell_type": "code",
      "metadata": {
        "colab": {
          "base_uri": "https://localhost:8080/"
        },
        "id": "pQ3sT1zwOt5y",
        "outputId": "d861ce5f-89a6-4a5e-eadf-cf39be9046f5"
      },
      "source": [
        "data['Genres'].value_counts()"
      ],
      "execution_count": null,
      "outputs": [
        {
          "output_type": "execute_result",
          "data": {
            "text/plain": [
              "Tools                       842\n",
              "Entertainment               623\n",
              "Education                   549\n",
              "Medical                     463\n",
              "Business                    460\n",
              "                           ... \n",
              "Comics;Creativity             1\n",
              "Strategy;Education            1\n",
              "Communication;Creativity      1\n",
              "Strategy;Creativity           1\n",
              "Role Playing;Education        1\n",
              "Name: Genres, Length: 120, dtype: int64"
            ]
          },
          "metadata": {
            "tags": []
          },
          "execution_count": 28
        }
      ]
    },
    {
      "cell_type": "code",
      "metadata": {
        "colab": {
          "base_uri": "https://localhost:8080/",
          "height": 283
        },
        "id": "AuvnukrGO4X5",
        "outputId": "cd54d126-c47a-4536-d203-2666b753bf82"
      },
      "source": [
        "sns.countplot(x='Genres', order=data['Genres'].value_counts().index, hue='Type', data=data)\n",
        "pass"
      ],
      "execution_count": null,
      "outputs": [
        {
          "output_type": "display_data",
          "data": {
            "image/png": "[encoded data removed]",
            "text/plain": [
              "<Figure size 432x288 with 1 Axes>"
            ]
          },
          "metadata": {
            "tags": []
          }
        }
      ]
    },
    {
      "cell_type": "markdown",
      "metadata": {
        "id": "vLq1ya7C0oNG"
      },
      "source": [
        "Корреляционная матрица"
      ]
    },
    {
      "cell_type": "code",
      "metadata": {
        "colab": {
          "base_uri": "https://localhost:8080/",
          "height": 204
        },
        "id": "cSw2F_nJeC4h",
        "outputId": "77a77aa1-26b3-47b1-82da-f25b40de0748"
      },
      "source": [
        "corr_mat = data.corr()\n",
        "corr_mat"
      ],
      "execution_count": null,
      "outputs": [
        {
          "output_type": "execute_result",
          "data": {
            "text/html": [
              "<div>\n",
              "<style scoped>\n",
              "    .dataframe tbody tr th:only-of-type {\n",
              "        vertical-align: middle;\n",
              "    }\n",
              "\n",
              "    .dataframe tbody tr th {\n",
              "        vertical-align: top;\n",
              "    }\n",
              "\n",
              "    .dataframe thead th {\n",
              "        text-align: right;\n",
              "    }\n",
              "</style>\n",
              "<table border=\"1\" class=\"dataframe\">\n",
              "  <thead>\n",
              "    <tr style=\"text-align: right;\">\n",
              "      <th></th>\n",
              "      <th>Rating</th>\n",
              "      <th>Reviews</th>\n",
              "      <th>Size</th>\n",
              "      <th>Installs</th>\n",
              "      <th>Price</th>\n",
              "    </tr>\n",
              "  </thead>\n",
              "  <tbody>\n",
              "    <tr>\n",
              "      <th>Rating</th>\n",
              "      <td>1.000000</td>\n",
              "      <td>0.068141</td>\n",
              "      <td>0.075788</td>\n",
              "      <td>0.051355</td>\n",
              "      <td>-0.021176</td>\n",
              "    </tr>\n",
              "    <tr>\n",
              "      <th>Reviews</th>\n",
              "      <td>0.068141</td>\n",
              "      <td>1.000000</td>\n",
              "      <td>0.237280</td>\n",
              "      <td>0.643122</td>\n",
              "      <td>-0.009667</td>\n",
              "    </tr>\n",
              "    <tr>\n",
              "      <th>Size</th>\n",
              "      <td>0.075788</td>\n",
              "      <td>0.237280</td>\n",
              "      <td>1.000000</td>\n",
              "      <td>0.162557</td>\n",
              "      <td>-0.022455</td>\n",
              "    </tr>\n",
              "    <tr>\n",
              "      <th>Installs</th>\n",
              "      <td>0.051355</td>\n",
              "      <td>0.643122</td>\n",
              "      <td>0.162557</td>\n",
              "      <td>1.000000</td>\n",
              "      <td>-0.011689</td>\n",
              "    </tr>\n",
              "    <tr>\n",
              "      <th>Price</th>\n",
              "      <td>-0.021176</td>\n",
              "      <td>-0.009667</td>\n",
              "      <td>-0.022455</td>\n",
              "      <td>-0.011689</td>\n",
              "      <td>1.000000</td>\n",
              "    </tr>\n",
              "  </tbody>\n",
              "</table>\n",
              "</div>"
            ],
            "text/plain": [
              "            Rating   Reviews      Size  Installs     Price\n",
              "Rating    1.000000  0.068141  0.075788  0.051355 -0.021176\n",
              "Reviews   0.068141  1.000000  0.237280  0.643122 -0.009667\n",
              "Size      0.075788  0.237280  1.000000  0.162557 -0.022455\n",
              "Installs  0.051355  0.643122  0.162557  1.000000 -0.011689\n",
              "Price    -0.021176 -0.009667 -0.022455 -0.011689  1.000000"
            ]
          },
          "metadata": {
            "tags": []
          },
          "execution_count": 30
        }
      ]
    },
    {
      "cell_type": "code",
      "metadata": {
        "colab": {
          "base_uri": "https://localhost:8080/",
          "height": 204
        },
        "id": "5derD4vfeLze",
        "outputId": "7f49a9d9-c630-4871-d899-da53c7c37b86"
      },
      "source": [
        "corr_mat > 0.5"
      ],
      "execution_count": null,
      "outputs": [
        {
          "output_type": "execute_result",
          "data": {
            "text/html": [
              "<div>\n",
              "<style scoped>\n",
              "    .dataframe tbody tr th:only-of-type {\n",
              "        vertical-align: middle;\n",
              "    }\n",
              "\n",
              "    .dataframe tbody tr th {\n",
              "        vertical-align: top;\n",
              "    }\n",
              "\n",
              "    .dataframe thead th {\n",
              "        text-align: right;\n",
              "    }\n",
              "</style>\n",
              "<table border=\"1\" class=\"dataframe\">\n",
              "  <thead>\n",
              "    <tr style=\"text-align: right;\">\n",
              "      <th></th>\n",
              "      <th>Rating</th>\n",
              "      <th>Reviews</th>\n",
              "      <th>Size</th>\n",
              "      <th>Installs</th>\n",
              "      <th>Price</th>\n",
              "    </tr>\n",
              "  </thead>\n",
              "  <tbody>\n",
              "    <tr>\n",
              "      <th>Rating</th>\n",
              "      <td>True</td>\n",
              "      <td>False</td>\n",
              "      <td>False</td>\n",
              "      <td>False</td>\n",
              "      <td>False</td>\n",
              "    </tr>\n",
              "    <tr>\n",
              "      <th>Reviews</th>\n",
              "      <td>False</td>\n",
              "      <td>True</td>\n",
              "      <td>False</td>\n",
              "      <td>True</td>\n",
              "      <td>False</td>\n",
              "    </tr>\n",
              "    <tr>\n",
              "      <th>Size</th>\n",
              "      <td>False</td>\n",
              "      <td>False</td>\n",
              "      <td>True</td>\n",
              "      <td>False</td>\n",
              "      <td>False</td>\n",
              "    </tr>\n",
              "    <tr>\n",
              "      <th>Installs</th>\n",
              "      <td>False</td>\n",
              "      <td>True</td>\n",
              "      <td>False</td>\n",
              "      <td>True</td>\n",
              "      <td>False</td>\n",
              "    </tr>\n",
              "    <tr>\n",
              "      <th>Price</th>\n",
              "      <td>False</td>\n",
              "      <td>False</td>\n",
              "      <td>False</td>\n",
              "      <td>False</td>\n",
              "      <td>True</td>\n",
              "    </tr>\n",
              "  </tbody>\n",
              "</table>\n",
              "</div>"
            ],
            "text/plain": [
              "          Rating  Reviews   Size  Installs  Price\n",
              "Rating      True    False  False     False  False\n",
              "Reviews    False     True  False      True  False\n",
              "Size       False    False   True     False  False\n",
              "Installs   False     True  False      True  False\n",
              "Price      False    False  False     False   True"
            ]
          },
          "metadata": {
            "tags": []
          },
          "execution_count": 31
        }
      ]
    },
    {
      "cell_type": "markdown",
      "metadata": {
        "id": "-sa7Qz5SGt63"
      },
      "source": [
        "Удобно использовать визуальный образ этой матрицы. Чем светлее ячейка, тем больше по абсолютной величине коэффициент корреляции:"
      ]
    },
    {
      "cell_type": "code",
      "metadata": {
        "colab": {
          "base_uri": "https://localhost:8080/",
          "height": 269
        },
        "id": "6-F7-GrjeTOh",
        "outputId": "fee8db38-feb5-4126-de69-b61a4cfb4c0e"
      },
      "source": [
        "\n",
        "sns.heatmap(corr_mat, square=True, cmap='coolwarm')\n",
        "pass"
      ],
      "execution_count": null,
      "outputs": [
        {
          "output_type": "display_data",
          "data": {
            "image/png": "[encoded data removed]",
            "text/plain": [
              "<Figure size 432x288 with 2 Axes>"
            ]
          },
          "metadata": {
            "tags": []
          }
        }
      ]
    },
    {
      "cell_type": "markdown",
      "metadata": {
        "id": "nU2IMTNGfDsb"
      },
      "source": [
        "Видна небольшая корреляция отзывов и установок"
      ]
    },
    {
      "cell_type": "markdown",
      "metadata": {
        "id": "9cZekAKif5Ma"
      },
      "source": [
        "# Заполнение пропущенных значений"
      ]
    },
    {
      "cell_type": "code",
      "metadata": {
        "colab": {
          "base_uri": "https://localhost:8080/"
        },
        "id": "uYvDZTP8gcBG",
        "outputId": "4a17dec2-02e4-4c3f-91b0-9462f057d6e1"
      },
      "source": [
        "data.dtypes"
      ],
      "execution_count": null,
      "outputs": [
        {
          "output_type": "execute_result",
          "data": {
            "text/plain": [
              "App               category\n",
              "Category          category\n",
              "Rating             float64\n",
              "Reviews            float64\n",
              "Size               float64\n",
              "Installs           float64\n",
              "Type              category\n",
              "Price              float64\n",
              "Content Rating    category\n",
              "Genres            category\n",
              "Last Updated      category\n",
              "Current Ver       category\n",
              "Android Ver       category\n",
              "dtype: object"
            ]
          },
          "metadata": {
            "tags": []
          },
          "execution_count": 20
        }
      ]
    },
    {
      "cell_type": "code",
      "metadata": {
        "colab": {
          "base_uri": "https://localhost:8080/"
        },
        "id": "W2PTmwkzghsb",
        "outputId": "1179ca1b-b883-4a14-b606-5b26c63cb974"
      },
      "source": [
        "data.isna().sum()"
      ],
      "execution_count": null,
      "outputs": [
        {
          "output_type": "execute_result",
          "data": {
            "text/plain": [
              "App                  0\n",
              "Category             0\n",
              "Rating            1474\n",
              "Reviews              1\n",
              "Size              2012\n",
              "Installs             1\n",
              "Type                 1\n",
              "Price                0\n",
              "Content Rating       1\n",
              "Genres               0\n",
              "Last Updated         0\n",
              "Current Ver          8\n",
              "Android Ver          3\n",
              "dtype: int64"
            ]
          },
          "metadata": {
            "tags": []
          },
          "execution_count": 21
        }
      ]
    },
    {
      "cell_type": "code",
      "metadata": {
        "id": "aYihLB7PgnVN"
      },
      "source": [
        "data.fillna(data.median(axis = 0), axis=0 , inplace=True)"
      ],
      "execution_count": null,
      "outputs": []
    },
    {
      "cell_type": "code",
      "metadata": {
        "colab": {
          "base_uri": "https://localhost:8080/"
        },
        "id": "v_e_QNRugr3K",
        "outputId": "be3a6c48-89c3-454d-a2fc-fc155e1233ff"
      },
      "source": [
        "data.isna().sum()"
      ],
      "execution_count": null,
      "outputs": [
        {
          "output_type": "execute_result",
          "data": {
            "text/plain": [
              "App               0\n",
              "Category          0\n",
              "Rating            0\n",
              "Reviews           0\n",
              "Size              0\n",
              "Installs          0\n",
              "Type              1\n",
              "Price             0\n",
              "Content Rating    1\n",
              "Genres            0\n",
              "Last Updated      0\n",
              "Current Ver       8\n",
              "Android Ver       3\n",
              "dtype: int64"
            ]
          },
          "metadata": {
            "tags": []
          },
          "execution_count": 23
        }
      ]
    },
    {
      "cell_type": "code",
      "metadata": {
        "id": "IFPGG--NhOXU"
      },
      "source": [
        "data = data.dropna(subset=['Type'])"
      ],
      "execution_count": null,
      "outputs": []
    },
    {
      "cell_type": "code",
      "metadata": {
        "id": "F4lMwX9QhqBA"
      },
      "source": [
        "data = data.dropna(subset=['Content Rating'])"
      ],
      "execution_count": null,
      "outputs": []
    },
    {
      "cell_type": "code",
      "metadata": {
        "id": "lKf8WQE3hzO7"
      },
      "source": [
        "data = data.dropna(subset=['Current Ver'])"
      ],
      "execution_count": null,
      "outputs": []
    },
    {
      "cell_type": "code",
      "metadata": {
        "id": "eMk8wjzqh5_d"
      },
      "source": [
        "data = data.dropna(subset=['Android Ver'])"
      ],
      "execution_count": null,
      "outputs": []
    },
    {
      "cell_type": "code",
      "metadata": {
        "colab": {
          "base_uri": "https://localhost:8080/"
        },
        "id": "neT17wAYiNeY",
        "outputId": "c8e023be-e373-45ab-f836-e357334f5159"
      },
      "source": [
        "data.isna().sum()"
      ],
      "execution_count": null,
      "outputs": [
        {
          "output_type": "execute_result",
          "data": {
            "text/plain": [
              "App               0\n",
              "Category          0\n",
              "Rating            0\n",
              "Reviews           0\n",
              "Size              0\n",
              "Installs          0\n",
              "Type              0\n",
              "Price             0\n",
              "Content Rating    0\n",
              "Genres            0\n",
              "Last Updated      0\n",
              "Current Ver       0\n",
              "Android Ver       0\n",
              "dtype: int64"
            ]
          },
          "metadata": {
            "tags": []
          },
          "execution_count": 28
        }
      ]
    },
    {
      "cell_type": "code",
      "metadata": {
        "colab": {
          "base_uri": "https://localhost:8080/"
        },
        "id": "dImNlo-KiSw9",
        "outputId": "12e5feec-08d4-47f2-cbbf-6528ece7ee60"
      },
      "source": [
        "data.shape"
      ],
      "execution_count": null,
      "outputs": [
        {
          "output_type": "execute_result",
          "data": {
            "text/plain": [
              "(10829, 13)"
            ]
          },
          "metadata": {
            "tags": []
          },
          "execution_count": 29
        }
      ]
    },
    {
      "cell_type": "code",
      "metadata": {
        "colab": {
          "base_uri": "https://localhost:8080/",
          "height": 277
        },
        "id": "BMovKwAliXQW",
        "outputId": "0ef269e8-3118-492b-8a29-921686952936"
      },
      "source": [
        "data.describe()"
      ],
      "execution_count": null,
      "outputs": [
        {
          "output_type": "execute_result",
          "data": {
            "text/html": [
              "<div>\n",
              "<style scoped>\n",
              "    .dataframe tbody tr th:only-of-type {\n",
              "        vertical-align: middle;\n",
              "    }\n",
              "\n",
              "    .dataframe tbody tr th {\n",
              "        vertical-align: top;\n",
              "    }\n",
              "\n",
              "    .dataframe thead th {\n",
              "        text-align: right;\n",
              "    }\n",
              "</style>\n",
              "<table border=\"1\" class=\"dataframe\">\n",
              "  <thead>\n",
              "    <tr style=\"text-align: right;\">\n",
              "      <th></th>\n",
              "      <th>Rating</th>\n",
              "      <th>Reviews</th>\n",
              "      <th>Size</th>\n",
              "      <th>Installs</th>\n",
              "      <th>Price</th>\n",
              "    </tr>\n",
              "  </thead>\n",
              "  <tbody>\n",
              "    <tr>\n",
              "      <th>count</th>\n",
              "      <td>10829.000000</td>\n",
              "      <td>1.082900e+04</td>\n",
              "      <td>10829.000000</td>\n",
              "      <td>1.082900e+04</td>\n",
              "      <td>10829.000000</td>\n",
              "    </tr>\n",
              "    <tr>\n",
              "      <th>mean</th>\n",
              "      <td>4.206510</td>\n",
              "      <td>4.446018e+05</td>\n",
              "      <td>20.746597</td>\n",
              "      <td>1.547990e+07</td>\n",
              "      <td>1.028091</td>\n",
              "    </tr>\n",
              "    <tr>\n",
              "      <th>std</th>\n",
              "      <td>0.480467</td>\n",
              "      <td>2.929213e+06</td>\n",
              "      <td>20.680859</td>\n",
              "      <td>8.507114e+07</td>\n",
              "      <td>15.957778</td>\n",
              "    </tr>\n",
              "    <tr>\n",
              "      <th>min</th>\n",
              "      <td>1.000000</td>\n",
              "      <td>0.000000e+00</td>\n",
              "      <td>1.000000</td>\n",
              "      <td>0.000000e+00</td>\n",
              "      <td>0.000000</td>\n",
              "    </tr>\n",
              "    <tr>\n",
              "      <th>25%</th>\n",
              "      <td>4.100000</td>\n",
              "      <td>3.800000e+01</td>\n",
              "      <td>6.800000</td>\n",
              "      <td>5.000000e+03</td>\n",
              "      <td>0.000000</td>\n",
              "    </tr>\n",
              "    <tr>\n",
              "      <th>50%</th>\n",
              "      <td>4.300000</td>\n",
              "      <td>2.100000e+03</td>\n",
              "      <td>14.000000</td>\n",
              "      <td>1.000000e+05</td>\n",
              "      <td>0.000000</td>\n",
              "    </tr>\n",
              "    <tr>\n",
              "      <th>75%</th>\n",
              "      <td>4.500000</td>\n",
              "      <td>5.481500e+04</td>\n",
              "      <td>26.000000</td>\n",
              "      <td>5.000000e+06</td>\n",
              "      <td>0.000000</td>\n",
              "    </tr>\n",
              "    <tr>\n",
              "      <th>max</th>\n",
              "      <td>5.000000</td>\n",
              "      <td>7.815831e+07</td>\n",
              "      <td>100.000000</td>\n",
              "      <td>1.000000e+09</td>\n",
              "      <td>400.000000</td>\n",
              "    </tr>\n",
              "  </tbody>\n",
              "</table>\n",
              "</div>"
            ],
            "text/plain": [
              "             Rating       Reviews          Size      Installs         Price\n",
              "count  10829.000000  1.082900e+04  10829.000000  1.082900e+04  10829.000000\n",
              "mean       4.206510  4.446018e+05     20.746597  1.547990e+07      1.028091\n",
              "std        0.480467  2.929213e+06     20.680859  8.507114e+07     15.957778\n",
              "min        1.000000  0.000000e+00      1.000000  0.000000e+00      0.000000\n",
              "25%        4.100000  3.800000e+01      6.800000  5.000000e+03      0.000000\n",
              "50%        4.300000  2.100000e+03     14.000000  1.000000e+05      0.000000\n",
              "75%        4.500000  5.481500e+04     26.000000  5.000000e+06      0.000000\n",
              "max        5.000000  7.815831e+07    100.000000  1.000000e+09    400.000000"
            ]
          },
          "metadata": {
            "tags": []
          },
          "execution_count": 30
        }
      ]
    },
    {
      "cell_type": "code",
      "metadata": {
        "colab": {
          "base_uri": "https://localhost:8080/",
          "height": 162
        },
        "id": "DXp9OiTFidoj",
        "outputId": "df5158c5-ab17-41db-fbe9-be536f61d50b"
      },
      "source": [
        "data.describe(include=['category'])"
      ],
      "execution_count": null,
      "outputs": [
        {
          "output_type": "execute_result",
          "data": {
            "text/html": [
              "<div>\n",
              "<style scoped>\n",
              "    .dataframe tbody tr th:only-of-type {\n",
              "        vertical-align: middle;\n",
              "    }\n",
              "\n",
              "    .dataframe tbody tr th {\n",
              "        vertical-align: top;\n",
              "    }\n",
              "\n",
              "    .dataframe thead th {\n",
              "        text-align: right;\n",
              "    }\n",
              "</style>\n",
              "<table border=\"1\" class=\"dataframe\">\n",
              "  <thead>\n",
              "    <tr style=\"text-align: right;\">\n",
              "      <th></th>\n",
              "      <th>App</th>\n",
              "      <th>Category</th>\n",
              "      <th>Type</th>\n",
              "      <th>Content Rating</th>\n",
              "      <th>Genres</th>\n",
              "      <th>Last Updated</th>\n",
              "      <th>Current Ver</th>\n",
              "      <th>Android Ver</th>\n",
              "    </tr>\n",
              "  </thead>\n",
              "  <tbody>\n",
              "    <tr>\n",
              "      <th>count</th>\n",
              "      <td>10829</td>\n",
              "      <td>10829</td>\n",
              "      <td>10829</td>\n",
              "      <td>10829</td>\n",
              "      <td>10829</td>\n",
              "      <td>10829</td>\n",
              "      <td>10829</td>\n",
              "      <td>10829</td>\n",
              "    </tr>\n",
              "    <tr>\n",
              "      <th>unique</th>\n",
              "      <td>9648</td>\n",
              "      <td>33</td>\n",
              "      <td>2</td>\n",
              "      <td>6</td>\n",
              "      <td>119</td>\n",
              "      <td>1376</td>\n",
              "      <td>2831</td>\n",
              "      <td>33</td>\n",
              "    </tr>\n",
              "    <tr>\n",
              "      <th>top</th>\n",
              "      <td>ROBLOX</td>\n",
              "      <td>FAMILY</td>\n",
              "      <td>Free</td>\n",
              "      <td>Everyone</td>\n",
              "      <td>Tools</td>\n",
              "      <td>August 3, 2018</td>\n",
              "      <td>Varies with device</td>\n",
              "      <td>4.1 and up</td>\n",
              "    </tr>\n",
              "    <tr>\n",
              "      <th>freq</th>\n",
              "      <td>9</td>\n",
              "      <td>1968</td>\n",
              "      <td>10032</td>\n",
              "      <td>8704</td>\n",
              "      <td>840</td>\n",
              "      <td>326</td>\n",
              "      <td>1458</td>\n",
              "      <td>2451</td>\n",
              "    </tr>\n",
              "  </tbody>\n",
              "</table>\n",
              "</div>"
            ],
            "text/plain": [
              "           App Category   Type  ...    Last Updated         Current Ver Android Ver\n",
              "count    10829    10829  10829  ...           10829               10829       10829\n",
              "unique    9648       33      2  ...            1376                2831          33\n",
              "top     ROBLOX   FAMILY   Free  ...  August 3, 2018  Varies with device  4.1 and up\n",
              "freq         9     1968  10032  ...             326                1458        2451\n",
              "\n",
              "[4 rows x 8 columns]"
            ]
          },
          "metadata": {
            "tags": []
          },
          "execution_count": 31
        }
      ]
    },
    {
      "cell_type": "markdown",
      "metadata": {
        "id": "45S5eKFSjKhf"
      },
      "source": [
        "# Векторизация."
      ]
    },
    {
      "cell_type": "code",
      "metadata": {
        "colab": {
          "base_uri": "https://localhost:8080/"
        },
        "id": "7CikY9nyjVri",
        "outputId": "ea52fde0-82fa-4091-f21b-91f4db92504c"
      },
      "source": [
        "categorical_columns = [c for c in data.columns if data[c].dtype.name == 'category']\n",
        "numerical_columns   = [c for c in data.columns if data[c].dtype.name != 'category']\n",
        "print('categorical_columns=', categorical_columns)\n",
        "print('numerical_columns=', numerical_columns)"
      ],
      "execution_count": null,
      "outputs": [
        {
          "output_type": "stream",
          "text": [
            "categorical_columns= ['App', 'Category', 'Type', 'Content Rating', 'Genres', 'Last Updated', 'Current Ver', 'Android Ver']\n",
            "numerical_columns= ['Rating', 'Reviews', 'Size', 'Installs', 'Price']\n"
          ],
          "name": "stdout"
        }
      ]
    },
    {
      "cell_type": "code",
      "metadata": {
        "id": "RNfDpe9wDQYK"
      },
      "source": [
        "categorical_columns_exept_category= ['App', 'Type', 'Content Rating', 'Genres', 'Last Updated', 'Current Ver', 'Android Ver']"
      ],
      "execution_count": null,
      "outputs": []
    },
    {
      "cell_type": "code",
      "metadata": {
        "colab": {
          "base_uri": "https://localhost:8080/"
        },
        "id": "qFvoE3YQjdSW",
        "outputId": "e910d4f9-8702-49d3-ac61-f0c908d3e8b7"
      },
      "source": [
        "\n",
        "data_describe = data.describe(include=['category'])\n",
        "binary_columns    = [c for c in categorical_columns_exept_category if data_describe[c]['unique'] == 2]\n",
        "nonbinary_columns = [c for c in categorical_columns_exept_category if data_describe[c]['unique'] > 2]\n",
        "print('binary_columns=', binary_columns)\n",
        "print('nonbinary_columns=', nonbinary_columns)"
      ],
      "execution_count": null,
      "outputs": [
        {
          "output_type": "stream",
          "text": [
            "binary_columns= ['Type']\n",
            "nonbinary_columns= ['App', 'Content Rating', 'Genres', 'Last Updated', 'Current Ver', 'Android Ver']\n"
          ],
          "name": "stdout"
        }
      ]
    },
    {
      "cell_type": "code",
      "metadata": {
        "id": "NRPs6NoejlN5"
      },
      "source": [
        "data['Type'] = pd.factorize(data['Type'])[0]"
      ],
      "execution_count": null,
      "outputs": []
    },
    {
      "cell_type": "markdown",
      "metadata": {
        "id": "jJbfH6DBj2bi"
      },
      "source": [
        "Применим метод бинаризации (one-hot encoding)"
      ]
    },
    {
      "cell_type": "code",
      "metadata": {
        "colab": {
          "base_uri": "https://localhost:8080/"
        },
        "id": "rAnRrjxEj_eW",
        "outputId": "1df9a23a-d681-425d-a228-1521ef03f8b3"
      },
      "source": [
        "data_categorical = pd.get_dummies(data[nonbinary_columns])\n",
        "print(data_categorical.columns)"
      ],
      "execution_count": null,
      "outputs": [
        {
          "output_type": "stream",
          "text": [
            "Index(['App_\"i DT\" Fútbol. Todos Somos Técnicos.',\n",
            "       'App_+Download 4 Instagram Twitter', 'App_- Free Comics - Comic Apps',\n",
            "       'App_.R', 'App_/u/app', 'App_058.ba', 'App_1. FC Köln App',\n",
            "       'App_10 Best Foods for You', 'App_10 Minutes a Day Times Tables',\n",
            "       'App_10 WPM Amateur ham radio CW Morse code trainer',\n",
            "       ...\n",
            "       'Android Ver_5.0 - 7.1.1', 'Android Ver_5.0 - 8.0',\n",
            "       'Android Ver_5.0 and up', 'Android Ver_5.1 and up',\n",
            "       'Android Ver_6.0 and up', 'Android Ver_7.0 - 7.1.1',\n",
            "       'Android Ver_7.0 and up', 'Android Ver_7.1 and up',\n",
            "       'Android Ver_8.0 and up', 'Android Ver_Varies with device'],\n",
            "      dtype='object', length=14029)\n"
          ],
          "name": "stdout"
        }
      ]
    },
    {
      "cell_type": "markdown",
      "metadata": {
        "id": "gLeKY7wAkKbB"
      },
      "source": [
        "# Нормализация."
      ]
    },
    {
      "cell_type": "code",
      "metadata": {
        "id": "CWcCG8h5kMwy"
      },
      "source": [
        "numerical_columns=['Rating', 'Reviews', 'Size', 'Installs', 'Price' ]"
      ],
      "execution_count": null,
      "outputs": []
    },
    {
      "cell_type": "code",
      "metadata": {
        "colab": {
          "base_uri": "https://localhost:8080/",
          "height": 277
        },
        "id": "UdVXo2ilnDpg",
        "outputId": "660aec41-2506-4d25-ca52-c36e35730eed"
      },
      "source": [
        "data_numerical = data[numerical_columns]\n",
        "data_numerical.describe()"
      ],
      "execution_count": null,
      "outputs": [
        {
          "output_type": "execute_result",
          "data": {
            "text/html": [
              "<div>\n",
              "<style scoped>\n",
              "    .dataframe tbody tr th:only-of-type {\n",
              "        vertical-align: middle;\n",
              "    }\n",
              "\n",
              "    .dataframe tbody tr th {\n",
              "        vertical-align: top;\n",
              "    }\n",
              "\n",
              "    .dataframe thead th {\n",
              "        text-align: right;\n",
              "    }\n",
              "</style>\n",
              "<table border=\"1\" class=\"dataframe\">\n",
              "  <thead>\n",
              "    <tr style=\"text-align: right;\">\n",
              "      <th></th>\n",
              "      <th>Rating</th>\n",
              "      <th>Reviews</th>\n",
              "      <th>Size</th>\n",
              "      <th>Installs</th>\n",
              "      <th>Price</th>\n",
              "    </tr>\n",
              "  </thead>\n",
              "  <tbody>\n",
              "    <tr>\n",
              "      <th>count</th>\n",
              "      <td>10829.000000</td>\n",
              "      <td>1.082900e+04</td>\n",
              "      <td>10829.000000</td>\n",
              "      <td>1.082900e+04</td>\n",
              "      <td>10829.000000</td>\n",
              "    </tr>\n",
              "    <tr>\n",
              "      <th>mean</th>\n",
              "      <td>4.206510</td>\n",
              "      <td>4.446018e+05</td>\n",
              "      <td>20.746597</td>\n",
              "      <td>1.547990e+07</td>\n",
              "      <td>1.028091</td>\n",
              "    </tr>\n",
              "    <tr>\n",
              "      <th>std</th>\n",
              "      <td>0.480467</td>\n",
              "      <td>2.929213e+06</td>\n",
              "      <td>20.680859</td>\n",
              "      <td>8.507114e+07</td>\n",
              "      <td>15.957778</td>\n",
              "    </tr>\n",
              "    <tr>\n",
              "      <th>min</th>\n",
              "      <td>1.000000</td>\n",
              "      <td>0.000000e+00</td>\n",
              "      <td>1.000000</td>\n",
              "      <td>0.000000e+00</td>\n",
              "      <td>0.000000</td>\n",
              "    </tr>\n",
              "    <tr>\n",
              "      <th>25%</th>\n",
              "      <td>4.100000</td>\n",
              "      <td>3.800000e+01</td>\n",
              "      <td>6.800000</td>\n",
              "      <td>5.000000e+03</td>\n",
              "      <td>0.000000</td>\n",
              "    </tr>\n",
              "    <tr>\n",
              "      <th>50%</th>\n",
              "      <td>4.300000</td>\n",
              "      <td>2.100000e+03</td>\n",
              "      <td>14.000000</td>\n",
              "      <td>1.000000e+05</td>\n",
              "      <td>0.000000</td>\n",
              "    </tr>\n",
              "    <tr>\n",
              "      <th>75%</th>\n",
              "      <td>4.500000</td>\n",
              "      <td>5.481500e+04</td>\n",
              "      <td>26.000000</td>\n",
              "      <td>5.000000e+06</td>\n",
              "      <td>0.000000</td>\n",
              "    </tr>\n",
              "    <tr>\n",
              "      <th>max</th>\n",
              "      <td>5.000000</td>\n",
              "      <td>7.815831e+07</td>\n",
              "      <td>100.000000</td>\n",
              "      <td>1.000000e+09</td>\n",
              "      <td>400.000000</td>\n",
              "    </tr>\n",
              "  </tbody>\n",
              "</table>\n",
              "</div>"
            ],
            "text/plain": [
              "             Rating       Reviews          Size      Installs         Price\n",
              "count  10829.000000  1.082900e+04  10829.000000  1.082900e+04  10829.000000\n",
              "mean       4.206510  4.446018e+05     20.746597  1.547990e+07      1.028091\n",
              "std        0.480467  2.929213e+06     20.680859  8.507114e+07     15.957778\n",
              "min        1.000000  0.000000e+00      1.000000  0.000000e+00      0.000000\n",
              "25%        4.100000  3.800000e+01      6.800000  5.000000e+03      0.000000\n",
              "50%        4.300000  2.100000e+03     14.000000  1.000000e+05      0.000000\n",
              "75%        4.500000  5.481500e+04     26.000000  5.000000e+06      0.000000\n",
              "max        5.000000  7.815831e+07    100.000000  1.000000e+09    400.000000"
            ]
          },
          "metadata": {
            "tags": []
          },
          "execution_count": 38
        }
      ]
    },
    {
      "cell_type": "code",
      "metadata": {
        "id": "L4sHVDFKnMWu"
      },
      "source": [
        "data_numerical = (data_numerical - data_numerical.mean(axis = 0))/data_numerical.std(axis = 0)"
      ],
      "execution_count": null,
      "outputs": []
    },
    {
      "cell_type": "code",
      "metadata": {
        "colab": {
          "base_uri": "https://localhost:8080/",
          "height": 277
        },
        "id": "u6mXEBirnUFR",
        "outputId": "252ca20d-1cde-46c7-cf13-99dae8588a8b"
      },
      "source": [
        "data_numerical.describe()"
      ],
      "execution_count": null,
      "outputs": [
        {
          "output_type": "execute_result",
          "data": {
            "text/html": [
              "<div>\n",
              "<style scoped>\n",
              "    .dataframe tbody tr th:only-of-type {\n",
              "        vertical-align: middle;\n",
              "    }\n",
              "\n",
              "    .dataframe tbody tr th {\n",
              "        vertical-align: top;\n",
              "    }\n",
              "\n",
              "    .dataframe thead th {\n",
              "        text-align: right;\n",
              "    }\n",
              "</style>\n",
              "<table border=\"1\" class=\"dataframe\">\n",
              "  <thead>\n",
              "    <tr style=\"text-align: right;\">\n",
              "      <th></th>\n",
              "      <th>Rating</th>\n",
              "      <th>Reviews</th>\n",
              "      <th>Size</th>\n",
              "      <th>Installs</th>\n",
              "      <th>Price</th>\n",
              "    </tr>\n",
              "  </thead>\n",
              "  <tbody>\n",
              "    <tr>\n",
              "      <th>count</th>\n",
              "      <td>1.082900e+04</td>\n",
              "      <td>1.082900e+04</td>\n",
              "      <td>1.082900e+04</td>\n",
              "      <td>1.082900e+04</td>\n",
              "      <td>1.082900e+04</td>\n",
              "    </tr>\n",
              "    <tr>\n",
              "      <th>mean</th>\n",
              "      <td>-2.815988e-13</td>\n",
              "      <td>5.663410e-17</td>\n",
              "      <td>2.268279e-15</td>\n",
              "      <td>-7.693157e-16</td>\n",
              "      <td>1.081004e-16</td>\n",
              "    </tr>\n",
              "    <tr>\n",
              "      <th>std</th>\n",
              "      <td>1.000000e+00</td>\n",
              "      <td>1.000000e+00</td>\n",
              "      <td>1.000000e+00</td>\n",
              "      <td>1.000000e+00</td>\n",
              "      <td>1.000000e+00</td>\n",
              "    </tr>\n",
              "    <tr>\n",
              "      <th>min</th>\n",
              "      <td>-6.673733e+00</td>\n",
              "      <td>-1.517820e-01</td>\n",
              "      <td>-9.548248e-01</td>\n",
              "      <td>-1.819642e-01</td>\n",
              "      <td>-6.442571e-02</td>\n",
              "    </tr>\n",
              "    <tr>\n",
              "      <th>25%</th>\n",
              "      <td>-2.216806e-01</td>\n",
              "      <td>-1.517690e-01</td>\n",
              "      <td>-6.743722e-01</td>\n",
              "      <td>-1.819054e-01</td>\n",
              "      <td>-6.442571e-02</td>\n",
              "    </tr>\n",
              "    <tr>\n",
              "      <th>50%</th>\n",
              "      <td>1.945808e-01</td>\n",
              "      <td>-1.510650e-01</td>\n",
              "      <td>-3.262242e-01</td>\n",
              "      <td>-1.807887e-01</td>\n",
              "      <td>-6.442571e-02</td>\n",
              "    </tr>\n",
              "    <tr>\n",
              "      <th>75%</th>\n",
              "      <td>6.108422e-01</td>\n",
              "      <td>-1.330687e-01</td>\n",
              "      <td>2.540225e-01</td>\n",
              "      <td>-1.231899e-01</td>\n",
              "      <td>-6.442571e-02</td>\n",
              "    </tr>\n",
              "    <tr>\n",
              "      <th>max</th>\n",
              "      <td>1.651496e+00</td>\n",
              "      <td>2.653057e+01</td>\n",
              "      <td>3.832210e+00</td>\n",
              "      <td>1.157290e+01</td>\n",
              "      <td>2.500172e+01</td>\n",
              "    </tr>\n",
              "  </tbody>\n",
              "</table>\n",
              "</div>"
            ],
            "text/plain": [
              "             Rating       Reviews          Size      Installs         Price\n",
              "count  1.082900e+04  1.082900e+04  1.082900e+04  1.082900e+04  1.082900e+04\n",
              "mean  -2.815988e-13  5.663410e-17  2.268279e-15 -7.693157e-16  1.081004e-16\n",
              "std    1.000000e+00  1.000000e+00  1.000000e+00  1.000000e+00  1.000000e+00\n",
              "min   -6.673733e+00 -1.517820e-01 -9.548248e-01 -1.819642e-01 -6.442571e-02\n",
              "25%   -2.216806e-01 -1.517690e-01 -6.743722e-01 -1.819054e-01 -6.442571e-02\n",
              "50%    1.945808e-01 -1.510650e-01 -3.262242e-01 -1.807887e-01 -6.442571e-02\n",
              "75%    6.108422e-01 -1.330687e-01  2.540225e-01 -1.231899e-01 -6.442571e-02\n",
              "max    1.651496e+00  2.653057e+01  3.832210e+00  1.157290e+01  2.500172e+01"
            ]
          },
          "metadata": {
            "tags": []
          },
          "execution_count": 40
        }
      ]
    },
    {
      "cell_type": "markdown",
      "metadata": {
        "id": "tC-nrKningla"
      },
      "source": [
        "# Соединяем все в одну таблицу."
      ]
    },
    {
      "cell_type": "code",
      "metadata": {
        "colab": {
          "base_uri": "https://localhost:8080/"
        },
        "id": "sSVg6wAWnnww",
        "outputId": "f6434024-4d6a-4bb2-d166-7bd033852475"
      },
      "source": [
        "data = pd.concat((data['Category'], data_numerical, data_categorical), axis = 1)\n",
        "print(data.shape)"
      ],
      "execution_count": null,
      "outputs": [
        {
          "output_type": "stream",
          "text": [
            "(10829, 14035)\n"
          ],
          "name": "stdout"
        }
      ]
    },
    {
      "cell_type": "code",
      "metadata": {
        "colab": {
          "base_uri": "https://localhost:8080/",
          "height": 617
        },
        "id": "sHWEgon0xrhG",
        "outputId": "3842d219-3335-4bab-9cc0-a9f2768c77fc"
      },
      "source": [
        "data.describe()"
      ],
      "execution_count": null,
      "outputs": [
        {
          "output_type": "execute_result",
          "data": {
            "text/html": [
              "<div>\n",
              "<style scoped>\n",
              "    .dataframe tbody tr th:only-of-type {\n",
              "        vertical-align: middle;\n",
              "    }\n",
              "\n",
              "    .dataframe tbody tr th {\n",
              "        vertical-align: top;\n",
              "    }\n",
              "\n",
              "    .dataframe thead th {\n",
              "        text-align: right;\n",
              "    }\n",
              "</style>\n",
              "<table border=\"1\" class=\"dataframe\">\n",
              "  <thead>\n",
              "    <tr style=\"text-align: right;\">\n",
              "      <th></th>\n",
              "      <th>Rating</th>\n",
              "      <th>Reviews</th>\n",
              "      <th>Size</th>\n",
              "      <th>Installs</th>\n",
              "      <th>Price</th>\n",
              "      <th>App_\"i DT\" Fútbol. Todos Somos Técnicos.</th>\n",
              "      <th>App_+Download 4 Instagram Twitter</th>\n",
              "      <th>App_- Free Comics - Comic Apps</th>\n",
              "      <th>App_.R</th>\n",
              "      <th>App_/u/app</th>\n",
              "      <th>App_058.ba</th>\n",
              "      <th>App_1. FC Köln App</th>\n",
              "      <th>App_10 Best Foods for You</th>\n",
              "      <th>App_10 Minutes a Day Times Tables</th>\n",
              "      <th>App_10 WPM Amateur ham radio CW Morse code trainer</th>\n",
              "      <th>App_10,000 Quotes DB (Premium)</th>\n",
              "      <th>App_100 Doors of Revenge</th>\n",
              "      <th>App_100+ C Programs</th>\n",
              "      <th>App_100000+ Messages - DP, Status, Jokes &amp; GIF 2018</th>\n",
              "      <th>App_101 C Programming Problems</th>\n",
              "      <th>App_104 Looking for a job - looking for a job, looking for a job, looking for a part-time job, health checkup, resume, treatment room</th>\n",
              "      <th>App_11st</th>\n",
              "      <th>App_12 Step Meditations &amp; Sober Prayers AA NA AL-ANON</th>\n",
              "      <th>App_14thStreetVet</th>\n",
              "      <th>App_17th Edition Cable Sizer</th>\n",
              "      <th>App_1800 Contacts - Lens Store</th>\n",
              "      <th>App_1LINE – One Line with One Touch</th>\n",
              "      <th>App_1st Fed CI Mobile Banking</th>\n",
              "      <th>App_2 Amateur ham radio CW Morse code practice keys TX</th>\n",
              "      <th>App_2-Player Co-op Zombie Shoot</th>\n",
              "      <th>App_20 Minuten (CH)</th>\n",
              "      <th>App_20 minutes (CH)</th>\n",
              "      <th>App_2000 AD Comics and Judge Dredd</th>\n",
              "      <th>App_2017 BN SM Sales Conference</th>\n",
              "      <th>App_2017 EMRA Antibiotic Guide</th>\n",
              "      <th>App_2018Emoji Keyboard 😂 Emoticons Lite -sticker&amp;gif</th>\n",
              "      <th>App_2019 Tricks Es File Explores</th>\n",
              "      <th>App_2048 BTS J Hope KPop Puzzle Game</th>\n",
              "      <th>App_2048(AI)</th>\n",
              "      <th>App_20WPM Amateur ham radio Koch CW Morse code trainer</th>\n",
              "      <th>...</th>\n",
              "      <th>Current Ver_v67_slk3.0_20180115_01</th>\n",
              "      <th>Current Ver_v7.0.02.3.0516.1_06_0713</th>\n",
              "      <th>Current Ver_v7.0.7.1.0625.1_06_0629</th>\n",
              "      <th>Current Ver_v7.0.9.1.0526.1_06_0704</th>\n",
              "      <th>Current Ver_v8.0.1.8.0629.1</th>\n",
              "      <th>Current Ver_v8[1.0.10]</th>\n",
              "      <th>Current Ver_version 0.994</th>\n",
              "      <th>Android Ver_1.0 and up</th>\n",
              "      <th>Android Ver_1.5 and up</th>\n",
              "      <th>Android Ver_1.6 and up</th>\n",
              "      <th>Android Ver_2.0 and up</th>\n",
              "      <th>Android Ver_2.0.1 and up</th>\n",
              "      <th>Android Ver_2.1 and up</th>\n",
              "      <th>Android Ver_2.2 - 7.1.1</th>\n",
              "      <th>Android Ver_2.2 and up</th>\n",
              "      <th>Android Ver_2.3 and up</th>\n",
              "      <th>Android Ver_2.3.3 and up</th>\n",
              "      <th>Android Ver_3.0 and up</th>\n",
              "      <th>Android Ver_3.1 and up</th>\n",
              "      <th>Android Ver_3.2 and up</th>\n",
              "      <th>Android Ver_4.0 and up</th>\n",
              "      <th>Android Ver_4.0.3 - 7.1.1</th>\n",
              "      <th>Android Ver_4.0.3 and up</th>\n",
              "      <th>Android Ver_4.1 - 7.1.1</th>\n",
              "      <th>Android Ver_4.1 and up</th>\n",
              "      <th>Android Ver_4.2 and up</th>\n",
              "      <th>Android Ver_4.3 and up</th>\n",
              "      <th>Android Ver_4.4 and up</th>\n",
              "      <th>Android Ver_4.4W and up</th>\n",
              "      <th>Android Ver_5.0 - 6.0</th>\n",
              "      <th>Android Ver_5.0 - 7.1.1</th>\n",
              "      <th>Android Ver_5.0 - 8.0</th>\n",
              "      <th>Android Ver_5.0 and up</th>\n",
              "      <th>Android Ver_5.1 and up</th>\n",
              "      <th>Android Ver_6.0 and up</th>\n",
              "      <th>Android Ver_7.0 - 7.1.1</th>\n",
              "      <th>Android Ver_7.0 and up</th>\n",
              "      <th>Android Ver_7.1 and up</th>\n",
              "      <th>Android Ver_8.0 and up</th>\n",
              "      <th>Android Ver_Varies with device</th>\n",
              "    </tr>\n",
              "  </thead>\n",
              "  <tbody>\n",
              "    <tr>\n",
              "      <th>count</th>\n",
              "      <td>1.082900e+04</td>\n",
              "      <td>1.082900e+04</td>\n",
              "      <td>1.082900e+04</td>\n",
              "      <td>1.082900e+04</td>\n",
              "      <td>1.082900e+04</td>\n",
              "      <td>10829.000000</td>\n",
              "      <td>10829.000000</td>\n",
              "      <td>10829.000000</td>\n",
              "      <td>10829.000000</td>\n",
              "      <td>10829.000000</td>\n",
              "      <td>10829.000000</td>\n",
              "      <td>10829.000000</td>\n",
              "      <td>10829.000000</td>\n",
              "      <td>10829.000000</td>\n",
              "      <td>10829.000000</td>\n",
              "      <td>10829.000000</td>\n",
              "      <td>10829.000000</td>\n",
              "      <td>10829.000000</td>\n",
              "      <td>10829.000000</td>\n",
              "      <td>10829.000000</td>\n",
              "      <td>10829.000000</td>\n",
              "      <td>10829.000000</td>\n",
              "      <td>10829.000000</td>\n",
              "      <td>10829.000000</td>\n",
              "      <td>10829.000000</td>\n",
              "      <td>10829.000000</td>\n",
              "      <td>10829.000000</td>\n",
              "      <td>10829.000000</td>\n",
              "      <td>10829.000000</td>\n",
              "      <td>10829.000000</td>\n",
              "      <td>10829.000000</td>\n",
              "      <td>10829.000000</td>\n",
              "      <td>10829.000000</td>\n",
              "      <td>10829.000000</td>\n",
              "      <td>10829.000000</td>\n",
              "      <td>10829.000000</td>\n",
              "      <td>10829.000000</td>\n",
              "      <td>10829.000000</td>\n",
              "      <td>10829.000000</td>\n",
              "      <td>10829.000000</td>\n",
              "      <td>...</td>\n",
              "      <td>10829.000000</td>\n",
              "      <td>10829.000000</td>\n",
              "      <td>10829.000000</td>\n",
              "      <td>10829.000000</td>\n",
              "      <td>10829.000000</td>\n",
              "      <td>10829.000000</td>\n",
              "      <td>10829.000000</td>\n",
              "      <td>10829.000000</td>\n",
              "      <td>10829.000000</td>\n",
              "      <td>10829.000000</td>\n",
              "      <td>10829.000000</td>\n",
              "      <td>10829.000000</td>\n",
              "      <td>10829.000000</td>\n",
              "      <td>10829.000000</td>\n",
              "      <td>10829.000000</td>\n",
              "      <td>10829.000000</td>\n",
              "      <td>10829.000000</td>\n",
              "      <td>10829.000000</td>\n",
              "      <td>10829.000000</td>\n",
              "      <td>10829.000000</td>\n",
              "      <td>10829.000000</td>\n",
              "      <td>10829.000000</td>\n",
              "      <td>10829.000000</td>\n",
              "      <td>10829.000000</td>\n",
              "      <td>10829.000000</td>\n",
              "      <td>10829.000000</td>\n",
              "      <td>10829.000000</td>\n",
              "      <td>10829.000000</td>\n",
              "      <td>10829.000000</td>\n",
              "      <td>10829.000000</td>\n",
              "      <td>10829.000000</td>\n",
              "      <td>10829.000000</td>\n",
              "      <td>10829.000000</td>\n",
              "      <td>10829.000000</td>\n",
              "      <td>10829.000000</td>\n",
              "      <td>10829.000000</td>\n",
              "      <td>10829.000000</td>\n",
              "      <td>10829.000000</td>\n",
              "      <td>10829.000000</td>\n",
              "      <td>10829.000000</td>\n",
              "    </tr>\n",
              "    <tr>\n",
              "      <th>mean</th>\n",
              "      <td>-2.815988e-13</td>\n",
              "      <td>5.663410e-17</td>\n",
              "      <td>2.268279e-15</td>\n",
              "      <td>-7.693157e-16</td>\n",
              "      <td>1.081004e-16</td>\n",
              "      <td>0.000092</td>\n",
              "      <td>0.000092</td>\n",
              "      <td>0.000092</td>\n",
              "      <td>0.000092</td>\n",
              "      <td>0.000092</td>\n",
              "      <td>0.000092</td>\n",
              "      <td>0.000092</td>\n",
              "      <td>0.000185</td>\n",
              "      <td>0.000092</td>\n",
              "      <td>0.000092</td>\n",
              "      <td>0.000092</td>\n",
              "      <td>0.000092</td>\n",
              "      <td>0.000092</td>\n",
              "      <td>0.000092</td>\n",
              "      <td>0.000092</td>\n",
              "      <td>0.000092</td>\n",
              "      <td>0.000092</td>\n",
              "      <td>0.000092</td>\n",
              "      <td>0.000092</td>\n",
              "      <td>0.000092</td>\n",
              "      <td>0.000185</td>\n",
              "      <td>0.000092</td>\n",
              "      <td>0.000092</td>\n",
              "      <td>0.000092</td>\n",
              "      <td>0.000092</td>\n",
              "      <td>0.000092</td>\n",
              "      <td>0.000092</td>\n",
              "      <td>0.000092</td>\n",
              "      <td>0.000092</td>\n",
              "      <td>0.000185</td>\n",
              "      <td>0.000092</td>\n",
              "      <td>0.000092</td>\n",
              "      <td>0.000092</td>\n",
              "      <td>0.000092</td>\n",
              "      <td>0.000092</td>\n",
              "      <td>...</td>\n",
              "      <td>0.000092</td>\n",
              "      <td>0.000092</td>\n",
              "      <td>0.000092</td>\n",
              "      <td>0.000092</td>\n",
              "      <td>0.000092</td>\n",
              "      <td>0.000092</td>\n",
              "      <td>0.000092</td>\n",
              "      <td>0.000185</td>\n",
              "      <td>0.001755</td>\n",
              "      <td>0.010620</td>\n",
              "      <td>0.002863</td>\n",
              "      <td>0.000646</td>\n",
              "      <td>0.012374</td>\n",
              "      <td>0.000092</td>\n",
              "      <td>0.022532</td>\n",
              "      <td>0.060116</td>\n",
              "      <td>0.025949</td>\n",
              "      <td>0.022163</td>\n",
              "      <td>0.000923</td>\n",
              "      <td>0.003324</td>\n",
              "      <td>0.126789</td>\n",
              "      <td>0.000185</td>\n",
              "      <td>0.138609</td>\n",
              "      <td>0.000092</td>\n",
              "      <td>0.226337</td>\n",
              "      <td>0.036291</td>\n",
              "      <td>0.022440</td>\n",
              "      <td>0.090498</td>\n",
              "      <td>0.001108</td>\n",
              "      <td>0.000092</td>\n",
              "      <td>0.000092</td>\n",
              "      <td>0.000185</td>\n",
              "      <td>0.055499</td>\n",
              "      <td>0.002216</td>\n",
              "      <td>0.005541</td>\n",
              "      <td>0.000092</td>\n",
              "      <td>0.003878</td>\n",
              "      <td>0.000277</td>\n",
              "      <td>0.000554</td>\n",
              "      <td>0.125681</td>\n",
              "    </tr>\n",
              "    <tr>\n",
              "      <th>std</th>\n",
              "      <td>1.000000e+00</td>\n",
              "      <td>1.000000e+00</td>\n",
              "      <td>1.000000e+00</td>\n",
              "      <td>1.000000e+00</td>\n",
              "      <td>1.000000e+00</td>\n",
              "      <td>0.009610</td>\n",
              "      <td>0.009610</td>\n",
              "      <td>0.009610</td>\n",
              "      <td>0.009610</td>\n",
              "      <td>0.009610</td>\n",
              "      <td>0.009610</td>\n",
              "      <td>0.009610</td>\n",
              "      <td>0.013589</td>\n",
              "      <td>0.009610</td>\n",
              "      <td>0.009610</td>\n",
              "      <td>0.009610</td>\n",
              "      <td>0.009610</td>\n",
              "      <td>0.009610</td>\n",
              "      <td>0.009610</td>\n",
              "      <td>0.009610</td>\n",
              "      <td>0.009610</td>\n",
              "      <td>0.009610</td>\n",
              "      <td>0.009610</td>\n",
              "      <td>0.009610</td>\n",
              "      <td>0.009610</td>\n",
              "      <td>0.013589</td>\n",
              "      <td>0.009610</td>\n",
              "      <td>0.009610</td>\n",
              "      <td>0.009610</td>\n",
              "      <td>0.009610</td>\n",
              "      <td>0.009610</td>\n",
              "      <td>0.009610</td>\n",
              "      <td>0.009610</td>\n",
              "      <td>0.009610</td>\n",
              "      <td>0.013589</td>\n",
              "      <td>0.009610</td>\n",
              "      <td>0.009610</td>\n",
              "      <td>0.009610</td>\n",
              "      <td>0.009610</td>\n",
              "      <td>0.009610</td>\n",
              "      <td>...</td>\n",
              "      <td>0.009610</td>\n",
              "      <td>0.009610</td>\n",
              "      <td>0.009610</td>\n",
              "      <td>0.009610</td>\n",
              "      <td>0.009610</td>\n",
              "      <td>0.009610</td>\n",
              "      <td>0.009610</td>\n",
              "      <td>0.013589</td>\n",
              "      <td>0.041852</td>\n",
              "      <td>0.102508</td>\n",
              "      <td>0.053430</td>\n",
              "      <td>0.025418</td>\n",
              "      <td>0.110554</td>\n",
              "      <td>0.009610</td>\n",
              "      <td>0.148413</td>\n",
              "      <td>0.237713</td>\n",
              "      <td>0.158990</td>\n",
              "      <td>0.147219</td>\n",
              "      <td>0.030376</td>\n",
              "      <td>0.057564</td>\n",
              "      <td>0.332752</td>\n",
              "      <td>0.013589</td>\n",
              "      <td>0.345554</td>\n",
              "      <td>0.009610</td>\n",
              "      <td>0.418479</td>\n",
              "      <td>0.187023</td>\n",
              "      <td>0.148116</td>\n",
              "      <td>0.286907</td>\n",
              "      <td>0.033272</td>\n",
              "      <td>0.009610</td>\n",
              "      <td>0.009610</td>\n",
              "      <td>0.013589</td>\n",
              "      <td>0.228962</td>\n",
              "      <td>0.047027</td>\n",
              "      <td>0.074233</td>\n",
              "      <td>0.009610</td>\n",
              "      <td>0.062159</td>\n",
              "      <td>0.016643</td>\n",
              "      <td>0.023533</td>\n",
              "      <td>0.331505</td>\n",
              "    </tr>\n",
              "    <tr>\n",
              "      <th>min</th>\n",
              "      <td>-6.673733e+00</td>\n",
              "      <td>-1.517820e-01</td>\n",
              "      <td>-9.548248e-01</td>\n",
              "      <td>-1.819642e-01</td>\n",
              "      <td>-6.442571e-02</td>\n",
              "      <td>0.000000</td>\n",
              "      <td>0.000000</td>\n",
              "      <td>0.000000</td>\n",
              "      <td>0.000000</td>\n",
              "      <td>0.000000</td>\n",
              "      <td>0.000000</td>\n",
              "      <td>0.000000</td>\n",
              "      <td>0.000000</td>\n",
              "      <td>0.000000</td>\n",
              "      <td>0.000000</td>\n",
              "      <td>0.000000</td>\n",
              "      <td>0.000000</td>\n",
              "      <td>0.000000</td>\n",
              "      <td>0.000000</td>\n",
              "      <td>0.000000</td>\n",
              "      <td>0.000000</td>\n",
              "      <td>0.000000</td>\n",
              "      <td>0.000000</td>\n",
              "      <td>0.000000</td>\n",
              "      <td>0.000000</td>\n",
              "      <td>0.000000</td>\n",
              "      <td>0.000000</td>\n",
              "      <td>0.000000</td>\n",
              "      <td>0.000000</td>\n",
              "      <td>0.000000</td>\n",
              "      <td>0.000000</td>\n",
              "      <td>0.000000</td>\n",
              "      <td>0.000000</td>\n",
              "      <td>0.000000</td>\n",
              "      <td>0.000000</td>\n",
              "      <td>0.000000</td>\n",
              "      <td>0.000000</td>\n",
              "      <td>0.000000</td>\n",
              "      <td>0.000000</td>\n",
              "      <td>0.000000</td>\n",
              "      <td>...</td>\n",
              "      <td>0.000000</td>\n",
              "      <td>0.000000</td>\n",
              "      <td>0.000000</td>\n",
              "      <td>0.000000</td>\n",
              "      <td>0.000000</td>\n",
              "      <td>0.000000</td>\n",
              "      <td>0.000000</td>\n",
              "      <td>0.000000</td>\n",
              "      <td>0.000000</td>\n",
              "      <td>0.000000</td>\n",
              "      <td>0.000000</td>\n",
              "      <td>0.000000</td>\n",
              "      <td>0.000000</td>\n",
              "      <td>0.000000</td>\n",
              "      <td>0.000000</td>\n",
              "      <td>0.000000</td>\n",
              "      <td>0.000000</td>\n",
              "      <td>0.000000</td>\n",
              "      <td>0.000000</td>\n",
              "      <td>0.000000</td>\n",
              "      <td>0.000000</td>\n",
              "      <td>0.000000</td>\n",
              "      <td>0.000000</td>\n",
              "      <td>0.000000</td>\n",
              "      <td>0.000000</td>\n",
              "      <td>0.000000</td>\n",
              "      <td>0.000000</td>\n",
              "      <td>0.000000</td>\n",
              "      <td>0.000000</td>\n",
              "      <td>0.000000</td>\n",
              "      <td>0.000000</td>\n",
              "      <td>0.000000</td>\n",
              "      <td>0.000000</td>\n",
              "      <td>0.000000</td>\n",
              "      <td>0.000000</td>\n",
              "      <td>0.000000</td>\n",
              "      <td>0.000000</td>\n",
              "      <td>0.000000</td>\n",
              "      <td>0.000000</td>\n",
              "      <td>0.000000</td>\n",
              "    </tr>\n",
              "    <tr>\n",
              "      <th>25%</th>\n",
              "      <td>-2.216806e-01</td>\n",
              "      <td>-1.517690e-01</td>\n",
              "      <td>-6.743722e-01</td>\n",
              "      <td>-1.819054e-01</td>\n",
              "      <td>-6.442571e-02</td>\n",
              "      <td>0.000000</td>\n",
              "      <td>0.000000</td>\n",
              "      <td>0.000000</td>\n",
              "      <td>0.000000</td>\n",
              "      <td>0.000000</td>\n",
              "      <td>0.000000</td>\n",
              "      <td>0.000000</td>\n",
              "      <td>0.000000</td>\n",
              "      <td>0.000000</td>\n",
              "      <td>0.000000</td>\n",
              "      <td>0.000000</td>\n",
              "      <td>0.000000</td>\n",
              "      <td>0.000000</td>\n",
              "      <td>0.000000</td>\n",
              "      <td>0.000000</td>\n",
              "      <td>0.000000</td>\n",
              "      <td>0.000000</td>\n",
              "      <td>0.000000</td>\n",
              "      <td>0.000000</td>\n",
              "      <td>0.000000</td>\n",
              "      <td>0.000000</td>\n",
              "      <td>0.000000</td>\n",
              "      <td>0.000000</td>\n",
              "      <td>0.000000</td>\n",
              "      <td>0.000000</td>\n",
              "      <td>0.000000</td>\n",
              "      <td>0.000000</td>\n",
              "      <td>0.000000</td>\n",
              "      <td>0.000000</td>\n",
              "      <td>0.000000</td>\n",
              "      <td>0.000000</td>\n",
              "      <td>0.000000</td>\n",
              "      <td>0.000000</td>\n",
              "      <td>0.000000</td>\n",
              "      <td>0.000000</td>\n",
              "      <td>...</td>\n",
              "      <td>0.000000</td>\n",
              "      <td>0.000000</td>\n",
              "      <td>0.000000</td>\n",
              "      <td>0.000000</td>\n",
              "      <td>0.000000</td>\n",
              "      <td>0.000000</td>\n",
              "      <td>0.000000</td>\n",
              "      <td>0.000000</td>\n",
              "      <td>0.000000</td>\n",
              "      <td>0.000000</td>\n",
              "      <td>0.000000</td>\n",
              "      <td>0.000000</td>\n",
              "      <td>0.000000</td>\n",
              "      <td>0.000000</td>\n",
              "      <td>0.000000</td>\n",
              "      <td>0.000000</td>\n",
              "      <td>0.000000</td>\n",
              "      <td>0.000000</td>\n",
              "      <td>0.000000</td>\n",
              "      <td>0.000000</td>\n",
              "      <td>0.000000</td>\n",
              "      <td>0.000000</td>\n",
              "      <td>0.000000</td>\n",
              "      <td>0.000000</td>\n",
              "      <td>0.000000</td>\n",
              "      <td>0.000000</td>\n",
              "      <td>0.000000</td>\n",
              "      <td>0.000000</td>\n",
              "      <td>0.000000</td>\n",
              "      <td>0.000000</td>\n",
              "      <td>0.000000</td>\n",
              "      <td>0.000000</td>\n",
              "      <td>0.000000</td>\n",
              "      <td>0.000000</td>\n",
              "      <td>0.000000</td>\n",
              "      <td>0.000000</td>\n",
              "      <td>0.000000</td>\n",
              "      <td>0.000000</td>\n",
              "      <td>0.000000</td>\n",
              "      <td>0.000000</td>\n",
              "    </tr>\n",
              "    <tr>\n",
              "      <th>50%</th>\n",
              "      <td>1.945808e-01</td>\n",
              "      <td>-1.510650e-01</td>\n",
              "      <td>-3.262242e-01</td>\n",
              "      <td>-1.807887e-01</td>\n",
              "      <td>-6.442571e-02</td>\n",
              "      <td>0.000000</td>\n",
              "      <td>0.000000</td>\n",
              "      <td>0.000000</td>\n",
              "      <td>0.000000</td>\n",
              "      <td>0.000000</td>\n",
              "      <td>0.000000</td>\n",
              "      <td>0.000000</td>\n",
              "      <td>0.000000</td>\n",
              "      <td>0.000000</td>\n",
              "      <td>0.000000</td>\n",
              "      <td>0.000000</td>\n",
              "      <td>0.000000</td>\n",
              "      <td>0.000000</td>\n",
              "      <td>0.000000</td>\n",
              "      <td>0.000000</td>\n",
              "      <td>0.000000</td>\n",
              "      <td>0.000000</td>\n",
              "      <td>0.000000</td>\n",
              "      <td>0.000000</td>\n",
              "      <td>0.000000</td>\n",
              "      <td>0.000000</td>\n",
              "      <td>0.000000</td>\n",
              "      <td>0.000000</td>\n",
              "      <td>0.000000</td>\n",
              "      <td>0.000000</td>\n",
              "      <td>0.000000</td>\n",
              "      <td>0.000000</td>\n",
              "      <td>0.000000</td>\n",
              "      <td>0.000000</td>\n",
              "      <td>0.000000</td>\n",
              "      <td>0.000000</td>\n",
              "      <td>0.000000</td>\n",
              "      <td>0.000000</td>\n",
              "      <td>0.000000</td>\n",
              "      <td>0.000000</td>\n",
              "      <td>...</td>\n",
              "      <td>0.000000</td>\n",
              "      <td>0.000000</td>\n",
              "      <td>0.000000</td>\n",
              "      <td>0.000000</td>\n",
              "      <td>0.000000</td>\n",
              "      <td>0.000000</td>\n",
              "      <td>0.000000</td>\n",
              "      <td>0.000000</td>\n",
              "      <td>0.000000</td>\n",
              "      <td>0.000000</td>\n",
              "      <td>0.000000</td>\n",
              "      <td>0.000000</td>\n",
              "      <td>0.000000</td>\n",
              "      <td>0.000000</td>\n",
              "      <td>0.000000</td>\n",
              "      <td>0.000000</td>\n",
              "      <td>0.000000</td>\n",
              "      <td>0.000000</td>\n",
              "      <td>0.000000</td>\n",
              "      <td>0.000000</td>\n",
              "      <td>0.000000</td>\n",
              "      <td>0.000000</td>\n",
              "      <td>0.000000</td>\n",
              "      <td>0.000000</td>\n",
              "      <td>0.000000</td>\n",
              "      <td>0.000000</td>\n",
              "      <td>0.000000</td>\n",
              "      <td>0.000000</td>\n",
              "      <td>0.000000</td>\n",
              "      <td>0.000000</td>\n",
              "      <td>0.000000</td>\n",
              "      <td>0.000000</td>\n",
              "      <td>0.000000</td>\n",
              "      <td>0.000000</td>\n",
              "      <td>0.000000</td>\n",
              "      <td>0.000000</td>\n",
              "      <td>0.000000</td>\n",
              "      <td>0.000000</td>\n",
              "      <td>0.000000</td>\n",
              "      <td>0.000000</td>\n",
              "    </tr>\n",
              "    <tr>\n",
              "      <th>75%</th>\n",
              "      <td>6.108422e-01</td>\n",
              "      <td>-1.330687e-01</td>\n",
              "      <td>2.540225e-01</td>\n",
              "      <td>-1.231899e-01</td>\n",
              "      <td>-6.442571e-02</td>\n",
              "      <td>0.000000</td>\n",
              "      <td>0.000000</td>\n",
              "      <td>0.000000</td>\n",
              "      <td>0.000000</td>\n",
              "      <td>0.000000</td>\n",
              "      <td>0.000000</td>\n",
              "      <td>0.000000</td>\n",
              "      <td>0.000000</td>\n",
              "      <td>0.000000</td>\n",
              "      <td>0.000000</td>\n",
              "      <td>0.000000</td>\n",
              "      <td>0.000000</td>\n",
              "      <td>0.000000</td>\n",
              "      <td>0.000000</td>\n",
              "      <td>0.000000</td>\n",
              "      <td>0.000000</td>\n",
              "      <td>0.000000</td>\n",
              "      <td>0.000000</td>\n",
              "      <td>0.000000</td>\n",
              "      <td>0.000000</td>\n",
              "      <td>0.000000</td>\n",
              "      <td>0.000000</td>\n",
              "      <td>0.000000</td>\n",
              "      <td>0.000000</td>\n",
              "      <td>0.000000</td>\n",
              "      <td>0.000000</td>\n",
              "      <td>0.000000</td>\n",
              "      <td>0.000000</td>\n",
              "      <td>0.000000</td>\n",
              "      <td>0.000000</td>\n",
              "      <td>0.000000</td>\n",
              "      <td>0.000000</td>\n",
              "      <td>0.000000</td>\n",
              "      <td>0.000000</td>\n",
              "      <td>0.000000</td>\n",
              "      <td>...</td>\n",
              "      <td>0.000000</td>\n",
              "      <td>0.000000</td>\n",
              "      <td>0.000000</td>\n",
              "      <td>0.000000</td>\n",
              "      <td>0.000000</td>\n",
              "      <td>0.000000</td>\n",
              "      <td>0.000000</td>\n",
              "      <td>0.000000</td>\n",
              "      <td>0.000000</td>\n",
              "      <td>0.000000</td>\n",
              "      <td>0.000000</td>\n",
              "      <td>0.000000</td>\n",
              "      <td>0.000000</td>\n",
              "      <td>0.000000</td>\n",
              "      <td>0.000000</td>\n",
              "      <td>0.000000</td>\n",
              "      <td>0.000000</td>\n",
              "      <td>0.000000</td>\n",
              "      <td>0.000000</td>\n",
              "      <td>0.000000</td>\n",
              "      <td>0.000000</td>\n",
              "      <td>0.000000</td>\n",
              "      <td>0.000000</td>\n",
              "      <td>0.000000</td>\n",
              "      <td>0.000000</td>\n",
              "      <td>0.000000</td>\n",
              "      <td>0.000000</td>\n",
              "      <td>0.000000</td>\n",
              "      <td>0.000000</td>\n",
              "      <td>0.000000</td>\n",
              "      <td>0.000000</td>\n",
              "      <td>0.000000</td>\n",
              "      <td>0.000000</td>\n",
              "      <td>0.000000</td>\n",
              "      <td>0.000000</td>\n",
              "      <td>0.000000</td>\n",
              "      <td>0.000000</td>\n",
              "      <td>0.000000</td>\n",
              "      <td>0.000000</td>\n",
              "      <td>0.000000</td>\n",
              "    </tr>\n",
              "    <tr>\n",
              "      <th>max</th>\n",
              "      <td>1.651496e+00</td>\n",
              "      <td>2.653057e+01</td>\n",
              "      <td>3.832210e+00</td>\n",
              "      <td>1.157290e+01</td>\n",
              "      <td>2.500172e+01</td>\n",
              "      <td>1.000000</td>\n",
              "      <td>1.000000</td>\n",
              "      <td>1.000000</td>\n",
              "      <td>1.000000</td>\n",
              "      <td>1.000000</td>\n",
              "      <td>1.000000</td>\n",
              "      <td>1.000000</td>\n",
              "      <td>1.000000</td>\n",
              "      <td>1.000000</td>\n",
              "      <td>1.000000</td>\n",
              "      <td>1.000000</td>\n",
              "      <td>1.000000</td>\n",
              "      <td>1.000000</td>\n",
              "      <td>1.000000</td>\n",
              "      <td>1.000000</td>\n",
              "      <td>1.000000</td>\n",
              "      <td>1.000000</td>\n",
              "      <td>1.000000</td>\n",
              "      <td>1.000000</td>\n",
              "      <td>1.000000</td>\n",
              "      <td>1.000000</td>\n",
              "      <td>1.000000</td>\n",
              "      <td>1.000000</td>\n",
              "      <td>1.000000</td>\n",
              "      <td>1.000000</td>\n",
              "      <td>1.000000</td>\n",
              "      <td>1.000000</td>\n",
              "      <td>1.000000</td>\n",
              "      <td>1.000000</td>\n",
              "      <td>1.000000</td>\n",
              "      <td>1.000000</td>\n",
              "      <td>1.000000</td>\n",
              "      <td>1.000000</td>\n",
              "      <td>1.000000</td>\n",
              "      <td>1.000000</td>\n",
              "      <td>...</td>\n",
              "      <td>1.000000</td>\n",
              "      <td>1.000000</td>\n",
              "      <td>1.000000</td>\n",
              "      <td>1.000000</td>\n",
              "      <td>1.000000</td>\n",
              "      <td>1.000000</td>\n",
              "      <td>1.000000</td>\n",
              "      <td>1.000000</td>\n",
              "      <td>1.000000</td>\n",
              "      <td>1.000000</td>\n",
              "      <td>1.000000</td>\n",
              "      <td>1.000000</td>\n",
              "      <td>1.000000</td>\n",
              "      <td>1.000000</td>\n",
              "      <td>1.000000</td>\n",
              "      <td>1.000000</td>\n",
              "      <td>1.000000</td>\n",
              "      <td>1.000000</td>\n",
              "      <td>1.000000</td>\n",
              "      <td>1.000000</td>\n",
              "      <td>1.000000</td>\n",
              "      <td>1.000000</td>\n",
              "      <td>1.000000</td>\n",
              "      <td>1.000000</td>\n",
              "      <td>1.000000</td>\n",
              "      <td>1.000000</td>\n",
              "      <td>1.000000</td>\n",
              "      <td>1.000000</td>\n",
              "      <td>1.000000</td>\n",
              "      <td>1.000000</td>\n",
              "      <td>1.000000</td>\n",
              "      <td>1.000000</td>\n",
              "      <td>1.000000</td>\n",
              "      <td>1.000000</td>\n",
              "      <td>1.000000</td>\n",
              "      <td>1.000000</td>\n",
              "      <td>1.000000</td>\n",
              "      <td>1.000000</td>\n",
              "      <td>1.000000</td>\n",
              "      <td>1.000000</td>\n",
              "    </tr>\n",
              "  </tbody>\n",
              "</table>\n",
              "<p>8 rows × 14034 columns</p>\n",
              "</div>"
            ],
            "text/plain": [
              "             Rating  ...  Android Ver_Varies with device\n",
              "count  1.082900e+04  ...                    10829.000000\n",
              "mean  -2.815988e-13  ...                        0.125681\n",
              "std    1.000000e+00  ...                        0.331505\n",
              "min   -6.673733e+00  ...                        0.000000\n",
              "25%   -2.216806e-01  ...                        0.000000\n",
              "50%    1.945808e-01  ...                        0.000000\n",
              "75%    6.108422e-01  ...                        0.000000\n",
              "max    1.651496e+00  ...                        1.000000\n",
              "\n",
              "[8 rows x 14034 columns]"
            ]
          },
          "metadata": {
            "tags": []
          },
          "execution_count": 42
        }
      ]
    },
    {
      "cell_type": "markdown",
      "metadata": {
        "id": "sNOc6ia-ysYb"
      },
      "source": [
        "# X и Y отбор признаков"
      ]
    },
    {
      "cell_type": "markdown",
      "metadata": {
        "id": "QvGPvjvZBk3w"
      },
      "source": [
        "Будем использовать все входные признаки для классификации приложений по цене."
      ]
    },
    {
      "cell_type": "code",
      "metadata": {
        "id": "uRBLV1pmy-nA"
      },
      "source": [
        "X = data.drop('Category', axis = 1) \n",
        "y = data['Category']"
      ],
      "execution_count": null,
      "outputs": []
    },
    {
      "cell_type": "code",
      "metadata": {
        "colab": {
          "base_uri": "https://localhost:8080/"
        },
        "id": "SBKS4jiy1E5f",
        "outputId": "4c580196-1ae0-4132-e806-551f0c675643"
      },
      "source": [
        "print(X.shape)\n",
        "print(y.shape)"
      ],
      "execution_count": null,
      "outputs": [
        {
          "output_type": "stream",
          "text": [
            "(10829, 14034)\n",
            "(10829,)\n"
          ],
          "name": "stdout"
        }
      ]
    },
    {
      "cell_type": "markdown",
      "metadata": {
        "id": "y3VSLIuLQKY-"
      },
      "source": [
        "# Разбиваем на обучающую и тестовую выборки."
      ]
    },
    {
      "cell_type": "code",
      "metadata": {
        "colab": {
          "base_uri": "https://localhost:8080/"
        },
        "id": "t-3f162GP2ai",
        "outputId": "46c6a8d7-4f1b-43a4-b95d-208f3deeef99"
      },
      "source": [
        "from sklearn.model_selection import train_test_split\n",
        "X_train, X_test, y_train, y_test = train_test_split(X, y, test_size = 0.3, random_state = 42)\n",
        "\n",
        "print(X_train.shape[0], X_test.shape[0])"
      ],
      "execution_count": null,
      "outputs": [
        {
          "output_type": "stream",
          "text": [
            "7580 3249\n"
          ],
          "name": "stdout"
        }
      ]
    },
    {
      "cell_type": "markdown",
      "metadata": {
        "id": "tWRwTsnlCMVv"
      },
      "source": [
        "# kNN"
      ]
    },
    {
      "cell_type": "code",
      "metadata": {
        "colab": {
          "base_uri": "https://localhost:8080/"
        },
        "id": "-tFHNtbEQkME",
        "outputId": "f962a20a-e0cb-4368-aa59-8bc38040d910"
      },
      "source": [
        "from sklearn.neighbors import KNeighborsClassifier\r\n",
        "\r\n",
        "knn = KNeighborsClassifier(n_neighbors = 10)\r\n",
        "knn.fit(X_train, y_train)"
      ],
      "execution_count": null,
      "outputs": [
        {
          "output_type": "execute_result",
          "data": {
            "text/plain": [
              "KNeighborsClassifier(algorithm='auto', leaf_size=30, metric='minkowski',\n",
              "                     metric_params=None, n_jobs=None, n_neighbors=10, p=2,\n",
              "                     weights='uniform')"
            ]
          },
          "metadata": {
            "tags": []
          },
          "execution_count": 44
        }
      ]
    },
    {
      "cell_type": "code",
      "metadata": {
        "id": "Kfz_N2J1Qnd1"
      },
      "source": [
        "y_train_predict = knn.predict(X_train)\r\n",
        "y_test_predict = knn.predict(X_test)"
      ],
      "execution_count": null,
      "outputs": []
    },
    {
      "cell_type": "code",
      "metadata": {
        "colab": {
          "base_uri": "https://localhost:8080/"
        },
        "id": "gqngbRxhRCQT",
        "outputId": "a79ddff6-8332-4299-b494-056a5b2cf081"
      },
      "source": [
        "err_train = np.mean(y_train != y_train_predict)\r\n",
        "err_test  = np.mean(y_test  != y_test_predict)\r\n",
        "\r\n",
        "print(err_train, err_test)"
      ],
      "execution_count": null,
      "outputs": [
        {
          "output_type": "stream",
          "text": [
            "0.10514511873350924 0.15297014465989536\n"
          ],
          "name": "stdout"
        }
      ]
    },
    {
      "cell_type": "code",
      "metadata": {
        "colab": {
          "base_uri": "https://localhost:8080/"
        },
        "id": "myGsEimqE0A4",
        "outputId": "b25bfd1a-ef37-4975-82a9-9a795b988f1f"
      },
      "source": [
        "from sklearn.model_selection import GridSearchCV\r\n",
        "nnb = [1, 5, 10, 15, 20, 25, 30, 40, 50]\r\n",
        "knn = KNeighborsClassifier()\r\n",
        "grid = GridSearchCV(knn, param_grid = {'n_neighbors': nnb}, cv=10)\r\n",
        "grid.fit(X_train, y_train)\r\n",
        "\r\n",
        "best_cv_err = 1 - grid.best_score_\r\n",
        "best_n_neighbors = grid.best_estimator_.n_neighbors\r\n",
        "print(best_cv_err, best_n_neighbors)"
      ],
      "execution_count": null,
      "outputs": [
        {
          "output_type": "stream",
          "text": [
            "0.14643799472295504 15\n"
          ],
          "name": "stdout"
        }
      ]
    },
    {
      "cell_type": "markdown",
      "metadata": {
        "id": "tlp9Hp3cE98u"
      },
      "source": [
        "Оптимальное значение соседей =15"
      ]
    },
    {
      "cell_type": "code",
      "metadata": {
        "colab": {
          "base_uri": "https://localhost:8080/"
        },
        "id": "ZeohMKaWFAdQ",
        "outputId": "1f269415-49fb-4c56-da0b-2876c66811b8"
      },
      "source": [
        "knn = KNeighborsClassifier(n_neighbors = best_n_neighbors).fit(X_train, y_train)\r\n",
        "\r\n",
        "err_train = np.mean(y_train != knn.predict(X_train))\r\n",
        "err_test  = np.mean(y_test  != knn.predict(X_test))\r\n",
        "\r\n",
        "print(err_train, err_test)"
      ],
      "execution_count": null,
      "outputs": [
        {
          "output_type": "stream",
          "text": [
            "0.10923482849604221 0.14804555247768544\n"
          ],
          "name": "stdout"
        }
      ]
    },
    {
      "cell_type": "markdown",
      "metadata": {
        "id": "xgveI2rvFCuE"
      },
      "source": [
        "##**Практическая рабта №2**"
      ]
    },
    {
      "cell_type": "markdown",
      "metadata": {
        "id": "GFEsZFMdRW2k"
      },
      "source": [
        "##**PCA**"
      ]
    },
    {
      "cell_type": "code",
      "metadata": {
        "id": "PUcl404GRaaZ"
      },
      "source": [
        "from sklearn.decomposition import PCA"
      ],
      "execution_count": null,
      "outputs": []
    },
    {
      "cell_type": "code",
      "metadata": {
        "colab": {
          "base_uri": "https://localhost:8080/"
        },
        "id": "BCxzlUSJRbAF",
        "outputId": "b4526c71-19bd-411e-c4ae-b2bf5c267d27"
      },
      "source": [
        "pca = PCA(n_components=2)\r\n",
        "principal_components = pca.fit_transform(X)\r\n",
        "principal_components"
      ],
      "execution_count": null,
      "outputs": [
        {
          "output_type": "execute_result",
          "data": {
            "text/plain": [
              "array([[-0.30383278,  0.10734   ],\n",
              "       [-0.39037008,  0.50461632],\n",
              "       [-0.15471039, -0.26051761],\n",
              "       ...,\n",
              "       [-0.339625  ,  0.22048233],\n",
              "       [-0.0743933 , -0.16603293],\n",
              "       [ 0.10017273, -0.22335122]])"
            ]
          },
          "metadata": {
            "tags": []
          },
          "execution_count": 49
        }
      ]
    },
    {
      "cell_type": "code",
      "metadata": {
        "colab": {
          "base_uri": "https://localhost:8080/",
          "height": 191
        },
        "id": "JZUxpSRyRdFC",
        "outputId": "23b196f7-2cd7-47cd-ceae-9b932c4d4069"
      },
      "source": [
        "pca_X = pd.DataFrame(data=principal_components,\r\n",
        "                     columns = ['principal_component_1', 'principal_component_2'])\r\n",
        "pca_X.head()"
      ],
      "execution_count": null,
      "outputs": [
        {
          "output_type": "execute_result",
          "data": {
            "text/html": [
              "<div>\n",
              "<style scoped>\n",
              "    .dataframe tbody tr th:only-of-type {\n",
              "        vertical-align: middle;\n",
              "    }\n",
              "\n",
              "    .dataframe tbody tr th {\n",
              "        vertical-align: top;\n",
              "    }\n",
              "\n",
              "    .dataframe thead th {\n",
              "        text-align: right;\n",
              "    }\n",
              "</style>\n",
              "<table border=\"1\" class=\"dataframe\">\n",
              "  <thead>\n",
              "    <tr style=\"text-align: right;\">\n",
              "      <th></th>\n",
              "      <th>principal_component_1</th>\n",
              "      <th>principal_component_2</th>\n",
              "    </tr>\n",
              "  </thead>\n",
              "  <tbody>\n",
              "    <tr>\n",
              "      <th>0</th>\n",
              "      <td>-0.303833</td>\n",
              "      <td>0.107340</td>\n",
              "    </tr>\n",
              "    <tr>\n",
              "      <th>1</th>\n",
              "      <td>-0.390370</td>\n",
              "      <td>0.504616</td>\n",
              "    </tr>\n",
              "    <tr>\n",
              "      <th>2</th>\n",
              "      <td>-0.154710</td>\n",
              "      <td>-0.260518</td>\n",
              "    </tr>\n",
              "    <tr>\n",
              "      <th>3</th>\n",
              "      <td>0.429292</td>\n",
              "      <td>-0.478621</td>\n",
              "    </tr>\n",
              "    <tr>\n",
              "      <th>4</th>\n",
              "      <td>-0.375708</td>\n",
              "      <td>0.402856</td>\n",
              "    </tr>\n",
              "  </tbody>\n",
              "</table>\n",
              "</div>"
            ],
            "text/plain": [
              "   principal_component_1  principal_component_2\n",
              "0              -0.303833               0.107340\n",
              "1              -0.390370               0.504616\n",
              "2              -0.154710              -0.260518\n",
              "3               0.429292              -0.478621\n",
              "4              -0.375708               0.402856"
            ]
          },
          "metadata": {
            "tags": []
          },
          "execution_count": 50
        }
      ]
    },
    {
      "cell_type": "code",
      "metadata": {
        "colab": {
          "base_uri": "https://localhost:8080/",
          "height": 191
        },
        "id": "5Ik3ClF6Re6K",
        "outputId": "65559e60-2193-45b7-c193-4cb4a243ec2b"
      },
      "source": [
        "final_data = pd.concat([pca_X, y], axis=1)\r\n",
        "final_data.head()"
      ],
      "execution_count": null,
      "outputs": [
        {
          "output_type": "execute_result",
          "data": {
            "text/html": [
              "<div>\n",
              "<style scoped>\n",
              "    .dataframe tbody tr th:only-of-type {\n",
              "        vertical-align: middle;\n",
              "    }\n",
              "\n",
              "    .dataframe tbody tr th {\n",
              "        vertical-align: top;\n",
              "    }\n",
              "\n",
              "    .dataframe thead th {\n",
              "        text-align: right;\n",
              "    }\n",
              "</style>\n",
              "<table border=\"1\" class=\"dataframe\">\n",
              "  <thead>\n",
              "    <tr style=\"text-align: right;\">\n",
              "      <th></th>\n",
              "      <th>principal_component_1</th>\n",
              "      <th>principal_component_2</th>\n",
              "      <th>Category</th>\n",
              "    </tr>\n",
              "  </thead>\n",
              "  <tbody>\n",
              "    <tr>\n",
              "      <th>0</th>\n",
              "      <td>-0.303833</td>\n",
              "      <td>0.107340</td>\n",
              "      <td>ART_AND_DESIGN</td>\n",
              "    </tr>\n",
              "    <tr>\n",
              "      <th>1</th>\n",
              "      <td>-0.390370</td>\n",
              "      <td>0.504616</td>\n",
              "      <td>ART_AND_DESIGN</td>\n",
              "    </tr>\n",
              "    <tr>\n",
              "      <th>2</th>\n",
              "      <td>-0.154710</td>\n",
              "      <td>-0.260518</td>\n",
              "      <td>ART_AND_DESIGN</td>\n",
              "    </tr>\n",
              "    <tr>\n",
              "      <th>3</th>\n",
              "      <td>0.429292</td>\n",
              "      <td>-0.478621</td>\n",
              "      <td>ART_AND_DESIGN</td>\n",
              "    </tr>\n",
              "    <tr>\n",
              "      <th>4</th>\n",
              "      <td>-0.375708</td>\n",
              "      <td>0.402856</td>\n",
              "      <td>ART_AND_DESIGN</td>\n",
              "    </tr>\n",
              "  </tbody>\n",
              "</table>\n",
              "</div>"
            ],
            "text/plain": [
              "   principal_component_1  principal_component_2        Category\n",
              "0              -0.303833               0.107340  ART_AND_DESIGN\n",
              "1              -0.390370               0.504616  ART_AND_DESIGN\n",
              "2              -0.154710              -0.260518  ART_AND_DESIGN\n",
              "3               0.429292              -0.478621  ART_AND_DESIGN\n",
              "4              -0.375708               0.402856  ART_AND_DESIGN"
            ]
          },
          "metadata": {
            "tags": []
          },
          "execution_count": 51
        }
      ]
    },
    {
      "cell_type": "code",
      "metadata": {
        "id": "aQ6PlIB-Fbrz"
      },
      "source": [
        "categ=['ART_AND_DESIGN', 'AUTO_AND_VEHICLES', 'BEAUTY',\r\n",
        "       'BOOKS_AND_REFERENCE', 'BUSINESS', 'COMICS', 'COMMUNICATION',\r\n",
        "       'DATING', 'EDUCATION', 'ENTERTAINMENT', 'EVENTS', 'FINANCE',\r\n",
        "       'FOOD_AND_DRINK', 'HEALTH_AND_FITNESS', 'HOUSE_AND_HOME',\r\n",
        "       'LIBRARIES_AND_DEMO', 'LIFESTYLE', 'GAME', 'FAMILY', 'MEDICAL',\r\n",
        "       'SOCIAL', 'SHOPPING', 'PHOTOGRAPHY', 'SPORTS', 'TRAVEL_AND_LOCAL',\r\n",
        "       'TOOLS', 'PERSONALIZATION', 'PRODUCTIVITY', 'PARENTING', 'WEATHER',\r\n",
        "       'VIDEO_PLAYERS', 'NEWS_AND_MAGAZINES', 'MAPS_AND_NAVIGATION',\r\n",
        "       '1.9']\r\n",
        "#34"
      ],
      "execution_count": null,
      "outputs": []
    },
    {
      "cell_type": "code",
      "metadata": {
        "id": "VdYLza6tFQnr"
      },
      "source": [
        "col=['mediumorchid', 'blueviolet', 'navy','maroon','chocolate', 'royalblue','orchid','indigo','tomato','linen', 'darkslategrey','cyan','darkmagenta', 'limegreen', 'darkgreen', 'yellow','purple', 'darkorange','salmon', 'red','grey','coral','olive','green','pink','gold','c','m','g','y','b','r','teal','peru']"
      ],
      "execution_count": null,
      "outputs": []
    },
    {
      "cell_type": "code",
      "metadata": {
        "colab": {
          "base_uri": "https://localhost:8080/",
          "height": 558
        },
        "id": "bVX4eBVyz-WO",
        "outputId": "2984518f-85d2-403a-d987-863493f8a35c"
      },
      "source": [
        "plt.figure(figsize = (8, 8))\r\n",
        " \r\n",
        "for i in range(len(categ)):\r\n",
        "  plt.scatter(final_data[final_data['Category'] == categ[i]]['principal_component_1'],\r\n",
        "            final_data[final_data['Category'] == categ[i]]['principal_component_2'],\r\n",
        "            alpha = 0.15,\r\n",
        "            label = categ[i],\r\n",
        "            color = col[i])\r\n",
        "  plt.legend()\r\n",
        "plt.grid()"
      ],
      "execution_count": null,
      "outputs": [
        {
          "output_type": "display_data",
          "data": {
            "image/png": "[encoded data removed]",
            "text/plain": [
              "<Figure size 576x576 with 1 Axes>"
            ]
          },
          "metadata": {
            "tags": []
          }
        }
      ]
    },
    {
      "cell_type": "code",
      "metadata": {
        "colab": {
          "base_uri": "https://localhost:8080/"
        },
        "id": "Nb374yB2Yad_",
        "outputId": "6c364638-9295-4203-8ca8-5fe8dfd5bbfa"
      },
      "source": [
        "from sklearn.model_selection import train_test_split\r\n",
        "X_train, X_test, y_train, y_test = train_test_split(pca_X, y, test_size = 0.3, random_state = 42)\r\n",
        "\r\n",
        "print(X_train.shape[0], X_test.shape[0])\r\n"
      ],
      "execution_count": null,
      "outputs": [
        {
          "output_type": "stream",
          "text": [
            "7580 3249\n"
          ],
          "name": "stdout"
        }
      ]
    },
    {
      "cell_type": "code",
      "metadata": {
        "id": "kOKhwmN_3_NX"
      },
      "source": [
        "\r\n",
        "best_n_neighbors=15"
      ],
      "execution_count": null,
      "outputs": []
    },
    {
      "cell_type": "code",
      "metadata": {
        "colab": {
          "base_uri": "https://localhost:8080/"
        },
        "id": "-wL36SIiYcDz",
        "outputId": "5f950968-0345-4096-a669-c6b9c731c465"
      },
      "source": [
        "from sklearn.neighbors import KNeighborsClassifier\r\n",
        "\r\n",
        "knn = KNeighborsClassifier(n_neighbors = best_n_neighbors).fit(X_train, y_train)\r\n",
        "\r\n",
        "err_train = np.mean(y_train != knn.predict(X_train))\r\n",
        "err_test  = np.mean(y_test  != knn.predict(X_test))\r\n",
        "\r\n",
        "print(err_train, err_test)\r\n"
      ],
      "execution_count": null,
      "outputs": [
        {
          "output_type": "stream",
          "text": [
            "0.7138522427440633 0.804247460757156\n"
          ],
          "name": "stdout"
        }
      ]
    },
    {
      "cell_type": "code",
      "metadata": {
        "id": "XNavva5mY602"
      },
      "source": [
        "err_pca_train = []\r\n",
        "err_pca_test = []"
      ],
      "execution_count": null,
      "outputs": []
    },
    {
      "cell_type": "code",
      "metadata": {
        "colab": {
          "base_uri": "https://localhost:8080/"
        },
        "id": "S-f7FtjqY9rG",
        "outputId": "88c65bc2-e9f9-4ccd-9016-908a4cbcf21c"
      },
      "source": [
        "errors = []\r\n",
        "for n in range(1, 10):\r\n",
        "    pca = PCA(n_components=n)\r\n",
        "    pca_X = pca.fit_transform(X)\r\n",
        "    \r\n",
        "    X_train, X_test, y_train, y_test = train_test_split(pca_X, y, test_size = 0.3, random_state = 42)\r\n",
        "    \r\n",
        "    knn = KNeighborsClassifier(n_neighbors = 2).fit(X_train, y_train)\r\n",
        "    err_train = np.mean(y_train != knn.predict(X_train))\r\n",
        "    err_test  = np.mean(y_test  != knn.predict(X_test))\r\n",
        "    \r\n",
        "    err_pca_train.append(err_train)\r\n",
        "    err_pca_test.append(err_test)\r\n",
        "    errors.append([err_train, err_test])\r\n",
        "\r\n",
        "print(errors)\r\n"
      ],
      "execution_count": null,
      "outputs": [
        {
          "output_type": "stream",
          "text": [
            "[[0.399868073878628, 0.8202523853493383], [0.3686015831134565, 0.7867036011080333], [0.35897097625329816, 0.7614650661742074], [0.35395778364116093, 0.7491535857186826], [0.3633245382585752, 0.7442289935364728], [0.345910290237467, 0.7183748845798708], [0.33773087071240104, 0.7051400430901816], [0.34195250659630605, 0.7029855340104647], [0.33839050131926124, 0.7014465989535241]]\n"
          ],
          "name": "stdout"
        }
      ]
    },
    {
      "cell_type": "code",
      "metadata": {
        "colab": {
          "base_uri": "https://localhost:8080/",
          "height": 265
        },
        "id": "KI9IHVJEY_8d",
        "outputId": "d1a49b6a-9649-48a6-aa74-ec2d8efbf815"
      },
      "source": [
        "plt.plot(err_pca_train, label='err_pca_train')\r\n",
        "plt.plot(err_pca_test, label='err_pca_test')\r\n",
        "plt.legend()\r\n",
        "plt.grid()\r\n",
        "plt.xlim(0, 10)\r\n",
        "plt.show()"
      ],
      "execution_count": null,
      "outputs": [
        {
          "output_type": "display_data",
          "data": {
            "image/png": "[encoded data removed]",
            "text/plain": [
              "<Figure size 432x288 with 1 Axes>"
            ]
          },
          "metadata": {
            "tags": []
          }
        }
      ]
    },
    {
      "cell_type": "code",
      "metadata": {
        "colab": {
          "base_uri": "https://localhost:8080/"
        },
        "id": "YHbQtgRtZLfT",
        "outputId": "4e73ecb6-ef44-48cb-d2a7-4c6ea51d0a2e"
      },
      "source": [
        "\r\n",
        "print(err_pca_test.index(min(err_pca_test)), min(err_pca_test))\r\n",
        "print(len(err_pca_test))"
      ],
      "execution_count": null,
      "outputs": [
        {
          "output_type": "stream",
          "text": [
            "8 0.7014465989535241\n",
            "9\n"
          ],
          "name": "stdout"
        }
      ]
    },
    {
      "cell_type": "markdown",
      "metadata": {
        "id": "3iv-Ry7mAtm5"
      },
      "source": [
        "# **LDA**"
      ]
    },
    {
      "cell_type": "code",
      "metadata": {
        "colab": {
          "base_uri": "https://localhost:8080/"
        },
        "id": "1k86T-_HqXAA",
        "outputId": "b7e3a2bb-47e9-4f1d-d9ed-0129947e4014"
      },
      "source": [
        "X_train, X_test, y_train, y_test = train_test_split(X, y, test_size = 0.3, random_state = 42)\r\n",
        "\r\n",
        "print(X_train.shape[0], X_test.shape[0])\r\n"
      ],
      "execution_count": 67,
      "outputs": [
        {
          "output_type": "stream",
          "text": [
            "7580 3249\n"
          ],
          "name": "stdout"
        }
      ]
    },
    {
      "cell_type": "code",
      "metadata": {
        "colab": {
          "base_uri": "https://localhost:8080/"
        },
        "id": "ioVEVx87seDy",
        "outputId": "24ac7162-40ec-4bca-8444-0594dc6c6110"
      },
      "source": [
        "from sklearn import discriminant_analysis\r\n",
        "lda_model = discriminant_analysis.LinearDiscriminantAnalysis().fit(X_train, y_train)\r\n",
        "y_train_pred = lda_model.predict(X_train)\r\n",
        "y_test_pred  = lda_model.predict(X_test)\r\n",
        "print (np.mean(y_train_pred != y_train))\r\n",
        "print (np.mean(y_test_pred  != y_test))"
      ],
      "execution_count": 68,
      "outputs": [
        {
          "output_type": "stream",
          "text": [
            "0.006728232189973615\n",
            "0.7974761465066175\n"
          ],
          "name": "stdout"
        }
      ]
    },
    {
      "cell_type": "code",
      "metadata": {
        "colab": {
          "base_uri": "https://localhost:8080/",
          "height": 558
        },
        "id": "pvVPIaEZsgLj",
        "outputId": "cbec126d-85ed-4ec7-8daf-b4c327d0b080"
      },
      "source": [
        "lda_model = discriminant_analysis.LinearDiscriminantAnalysis(n_components = 2)\r\n",
        "lda_model.fit(X_test, y_test)\r\n",
        "X_lda = lda_model.transform(X_train)\r\n",
        "plt.figure(figsize = (8, 6))\r\n",
        "for i in range(len(categ)):\r\n",
        "    plt.scatter(X_lda[y_train ==categ[i], 0], X_lda[y_train ==categ[i], 1], \r\n",
        "                color = col[i], label =categ[i], alpha = 0.2)\r\n",
        "plt.legend()\r\n",
        "plt.grid()\r\n",
        "pass\r\n",
        "\r\n"
      ],
      "execution_count": 69,
      "outputs": [
        {
          "output_type": "display_data",
          "data": {
            "image/png": "[encoded data removed]",
            "text/plain": [
              "<Figure size 576x432 with 1 Axes>"
            ]
          },
          "metadata": {
            "tags": [],
            "needs_background": "light"
          }
        }
      ]
    },
    {
      "cell_type": "code",
      "metadata": {
        "colab": {
          "base_uri": "https://localhost:8080/"
        },
        "id": "sr2kYA9QsjY-",
        "outputId": "1609bfbe-3a96-49ac-c6a6-9256255143d4"
      },
      "source": [
        "\r\n",
        "lda_model = discriminant_analysis.LinearDiscriminantAnalysis(n_components = 2).fit(X_train, y_train)\r\n",
        "X_train_lda = lda_model.transform(X_train)\r\n",
        "X_test_lda  = lda_model.transform(X_test)\r\n",
        "lda_model = discriminant_analysis.LinearDiscriminantAnalysis().fit(X_train_lda, y_train)\r\n",
        "y_train_pred = lda_model.predict(X_train_lda)\r\n",
        "y_test_pred  = lda_model.predict(X_test_lda)\r\n",
        "print ( np.mean(y_train != y_train_pred), np.mean(y_test != y_test_pred))"
      ],
      "execution_count": null,
      "outputs": [
        {
          "output_type": "stream",
          "text": [
            "0.05567282321899736 0.8371806709756848\n"
          ],
          "name": "stdout"
        }
      ]
    }
  ]
}